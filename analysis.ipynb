{
 "cells": [
  {
   "cell_type": "code",
   "execution_count": 1,
   "metadata": {},
   "outputs": [],
   "source": [
    "import numpy as np\n",
    "import pandas as pd\n",
    "\n",
    "import matplotlib.pyplot as plt\n",
    "%matplotlib inline\n",
    "import seaborn as sns\n",
    "sns.set()"
   ]
  },
  {
   "cell_type": "code",
   "execution_count": 2,
   "metadata": {},
   "outputs": [
    {
     "data": {
      "text/html": [
       "<div>\n",
       "<style scoped>\n",
       "    .dataframe tbody tr th:only-of-type {\n",
       "        vertical-align: middle;\n",
       "    }\n",
       "\n",
       "    .dataframe tbody tr th {\n",
       "        vertical-align: top;\n",
       "    }\n",
       "\n",
       "    .dataframe thead th {\n",
       "        text-align: right;\n",
       "    }\n",
       "</style>\n",
       "<table border=\"1\" class=\"dataframe\">\n",
       "  <thead>\n",
       "    <tr style=\"text-align: right;\">\n",
       "      <th></th>\n",
       "      <th>Bldg City</th>\n",
       "      <th>Bldg State</th>\n",
       "      <th>Bldg Status</th>\n",
       "      <th>Property Type</th>\n",
       "      <th>Total Parking Spaces</th>\n",
       "      <th>Owned/Leased</th>\n",
       "    </tr>\n",
       "  </thead>\n",
       "  <tbody>\n",
       "    <tr>\n",
       "      <th>0</th>\n",
       "      <td>HARTFORD</td>\n",
       "      <td>CT</td>\n",
       "      <td>ACTIVE</td>\n",
       "      <td>BUILDING</td>\n",
       "      <td>29</td>\n",
       "      <td>OWNED</td>\n",
       "    </tr>\n",
       "    <tr>\n",
       "      <th>1</th>\n",
       "      <td>NEW HAVEN</td>\n",
       "      <td>CT</td>\n",
       "      <td>ACTIVE</td>\n",
       "      <td>BUILDING</td>\n",
       "      <td>0</td>\n",
       "      <td>OWNED</td>\n",
       "    </tr>\n",
       "    <tr>\n",
       "      <th>2</th>\n",
       "      <td>WATERBURY</td>\n",
       "      <td>CT</td>\n",
       "      <td>ACTIVE</td>\n",
       "      <td>BUILDING</td>\n",
       "      <td>2</td>\n",
       "      <td>LEASED</td>\n",
       "    </tr>\n",
       "    <tr>\n",
       "      <th>3</th>\n",
       "      <td>WILLIMANTIC</td>\n",
       "      <td>CT</td>\n",
       "      <td>ACTIVE</td>\n",
       "      <td>BUILDING</td>\n",
       "      <td>0</td>\n",
       "      <td>LEASED</td>\n",
       "    </tr>\n",
       "    <tr>\n",
       "      <th>4</th>\n",
       "      <td>HARTFORD</td>\n",
       "      <td>CT</td>\n",
       "      <td>ACTIVE</td>\n",
       "      <td>BUILDING</td>\n",
       "      <td>103</td>\n",
       "      <td>OWNED</td>\n",
       "    </tr>\n",
       "  </tbody>\n",
       "</table>\n",
       "</div>"
      ],
      "text/plain": [
       "     Bldg City Bldg State Bldg Status Property Type  Total Parking Spaces  \\\n",
       "0     HARTFORD         CT      ACTIVE      BUILDING                    29   \n",
       "1    NEW HAVEN         CT      ACTIVE      BUILDING                     0   \n",
       "2    WATERBURY         CT      ACTIVE      BUILDING                     2   \n",
       "3  WILLIMANTIC         CT      ACTIVE      BUILDING                     0   \n",
       "4     HARTFORD         CT      ACTIVE      BUILDING                   103   \n",
       "\n",
       "  Owned/Leased  \n",
       "0        OWNED  \n",
       "1        OWNED  \n",
       "2       LEASED  \n",
       "3       LEASED  \n",
       "4        OWNED  "
      ]
     },
     "execution_count": 2,
     "metadata": {},
     "output_type": "execute_result"
    }
   ],
   "source": [
    "parking = pd.read_excel('data/parking.xls')\n",
    "parking.head()"
   ]
  },
  {
   "cell_type": "code",
   "execution_count": 3,
   "metadata": {},
   "outputs": [
    {
     "data": {
      "text/html": [
       "<div>\n",
       "<style scoped>\n",
       "    .dataframe tbody tr th:only-of-type {\n",
       "        vertical-align: middle;\n",
       "    }\n",
       "\n",
       "    .dataframe tbody tr th {\n",
       "        vertical-align: top;\n",
       "    }\n",
       "\n",
       "    .dataframe thead th {\n",
       "        text-align: right;\n",
       "    }\n",
       "</style>\n",
       "<table border=\"1\" class=\"dataframe\">\n",
       "  <thead>\n",
       "    <tr style=\"text-align: right;\">\n",
       "      <th></th>\n",
       "      <th>Total Parking Spaces</th>\n",
       "    </tr>\n",
       "  </thead>\n",
       "  <tbody>\n",
       "    <tr>\n",
       "      <th>count</th>\n",
       "      <td>9060.000000</td>\n",
       "    </tr>\n",
       "    <tr>\n",
       "      <th>mean</th>\n",
       "      <td>51.708499</td>\n",
       "    </tr>\n",
       "    <tr>\n",
       "      <th>std</th>\n",
       "      <td>187.107773</td>\n",
       "    </tr>\n",
       "    <tr>\n",
       "      <th>min</th>\n",
       "      <td>0.000000</td>\n",
       "    </tr>\n",
       "    <tr>\n",
       "      <th>25%</th>\n",
       "      <td>0.000000</td>\n",
       "    </tr>\n",
       "    <tr>\n",
       "      <th>50%</th>\n",
       "      <td>8.000000</td>\n",
       "    </tr>\n",
       "    <tr>\n",
       "      <th>75%</th>\n",
       "      <td>40.000000</td>\n",
       "    </tr>\n",
       "    <tr>\n",
       "      <th>max</th>\n",
       "      <td>6198.000000</td>\n",
       "    </tr>\n",
       "  </tbody>\n",
       "</table>\n",
       "</div>"
      ],
      "text/plain": [
       "       Total Parking Spaces\n",
       "count           9060.000000\n",
       "mean              51.708499\n",
       "std              187.107773\n",
       "min                0.000000\n",
       "25%                0.000000\n",
       "50%                8.000000\n",
       "75%               40.000000\n",
       "max             6198.000000"
      ]
     },
     "execution_count": 3,
     "metadata": {},
     "output_type": "execute_result"
    }
   ],
   "source": [
    "parking.describe()"
   ]
  },
  {
   "cell_type": "code",
   "execution_count": 4,
   "metadata": {},
   "outputs": [
    {
     "name": "stdout",
     "output_type": "stream",
     "text": [
      "<class 'pandas.core.frame.DataFrame'>\n",
      "RangeIndex: 9060 entries, 0 to 9059\n",
      "Data columns (total 6 columns):\n",
      "Bldg City               9060 non-null object\n",
      "Bldg State              9060 non-null object\n",
      "Bldg Status             9060 non-null object\n",
      "Property Type           9060 non-null object\n",
      "Total Parking Spaces    9060 non-null int64\n",
      "Owned/Leased            9060 non-null object\n",
      "dtypes: int64(1), object(5)\n",
      "memory usage: 424.8+ KB\n"
     ]
    }
   ],
   "source": [
    "parking.info()"
   ]
  },
  {
   "cell_type": "code",
   "execution_count": 5,
   "metadata": {},
   "outputs": [
    {
     "data": {
      "text/plain": [
       "array(['ACTIVE', 'DECOMMISSIONED', 'EXCESS'], dtype=object)"
      ]
     },
     "execution_count": 5,
     "metadata": {},
     "output_type": "execute_result"
    }
   ],
   "source": [
    "parking['Bldg Status'].unique()"
   ]
  },
  {
   "cell_type": "code",
   "execution_count": 6,
   "metadata": {},
   "outputs": [
    {
     "data": {
      "text/plain": [
       "ACTIVE            8981\n",
       "EXCESS              70\n",
       "DECOMMISSIONED       9\n",
       "Name: Bldg Status, dtype: int64"
      ]
     },
     "execution_count": 6,
     "metadata": {},
     "output_type": "execute_result"
    }
   ],
   "source": [
    "Bldg_status = parking['Bldg Status'].value_counts()\n",
    "Bldg_status"
   ]
  },
  {
   "cell_type": "code",
   "execution_count": 7,
   "metadata": {},
   "outputs": [],
   "source": [
    "# parking['Total Parking Spaces'].value_counts()"
   ]
  },
  {
   "cell_type": "code",
   "execution_count": 8,
   "metadata": {},
   "outputs": [],
   "source": [
    "# sns.scatterplot(x = Bldg_status.index, y = Bldg_status.values)\n",
    "# plt.show()"
   ]
  },
  {
   "cell_type": "code",
   "execution_count": 9,
   "metadata": {},
   "outputs": [
    {
     "data": {
      "text/plain": [
       "array(['CT', 'MA', 'ME', 'NH', 'RI', 'VT', 'ID', 'OR', 'WA', 'DC', 'MD',\n",
       "       'VA', 'NJ', 'NY', 'DE', 'PA', 'WV', 'AL', 'FL', 'GA', 'KY', 'MS',\n",
       "       'NC', 'SC', 'TN', 'IL', 'IN', 'MI', 'MN', 'OH', 'WI', 'IA', 'KS',\n",
       "       'MO', 'NE', 'AR', 'LA', 'NM', 'OK', 'TX', 'CO', 'MT', 'ND', 'SD',\n",
       "       'UT', 'WY', 'AZ', 'CA', 'NV'], dtype=object)"
      ]
     },
     "execution_count": 9,
     "metadata": {},
     "output_type": "execute_result"
    }
   ],
   "source": [
    "parking['Bldg State'].unique()"
   ]
  },
  {
   "cell_type": "code",
   "execution_count": 10,
   "metadata": {},
   "outputs": [
    {
     "data": {
      "text/plain": [
       "Index(['Bldg City', 'Bldg State', 'Bldg Status', 'Property Type',\n",
       "       'Total Parking Spaces', 'Owned/Leased'],\n",
       "      dtype='object')"
      ]
     },
     "execution_count": 10,
     "metadata": {},
     "output_type": "execute_result"
    }
   ],
   "source": [
    "parking.columns"
   ]
  },
  {
   "cell_type": "markdown",
   "metadata": {},
   "source": [
    "### 1. What is the Distribution & values for Owned/Leased "
   ]
  },
  {
   "cell_type": "code",
   "execution_count": 11,
   "metadata": {},
   "outputs": [
    {
     "data": {
      "image/png": "[encoded data removed]",
      "text/plain": [
       "<Figure size 432x288 with 1 Axes>"
      ]
     },
     "metadata": {
      "needs_background": "light"
     },
     "output_type": "display_data"
    }
   ],
   "source": [
    "plt.bar(parking['Owned/Leased'], parking['Total Parking Spaces'])\n",
    "plt.show()"
   ]
  },
  {
   "cell_type": "markdown",
   "metadata": {},
   "source": [
    "#### This is taking much more time therefore we will convert in to pd_pivot_table for faster execution"
   ]
  },
  {
   "cell_type": "code",
   "execution_count": 12,
   "metadata": {},
   "outputs": [
    {
     "data": {
      "text/html": [
       "<div>\n",
       "<style scoped>\n",
       "    .dataframe tbody tr th:only-of-type {\n",
       "        vertical-align: middle;\n",
       "    }\n",
       "\n",
       "    .dataframe tbody tr th {\n",
       "        vertical-align: top;\n",
       "    }\n",
       "\n",
       "    .dataframe thead th {\n",
       "        text-align: right;\n",
       "    }\n",
       "</style>\n",
       "<table border=\"1\" class=\"dataframe\">\n",
       "  <thead>\n",
       "    <tr style=\"text-align: right;\">\n",
       "      <th></th>\n",
       "      <th>Total Parking Spaces</th>\n",
       "    </tr>\n",
       "    <tr>\n",
       "      <th>Owned/Leased</th>\n",
       "      <th></th>\n",
       "    </tr>\n",
       "  </thead>\n",
       "  <tbody>\n",
       "    <tr>\n",
       "      <th>LEASED</th>\n",
       "      <td>6940</td>\n",
       "    </tr>\n",
       "    <tr>\n",
       "      <th>OWNED</th>\n",
       "      <td>2120</td>\n",
       "    </tr>\n",
       "  </tbody>\n",
       "</table>\n",
       "</div>"
      ],
      "text/plain": [
       "              Total Parking Spaces\n",
       "Owned/Leased                      \n",
       "LEASED                        6940\n",
       "OWNED                         2120"
      ]
     },
     "execution_count": 12,
     "metadata": {},
     "output_type": "execute_result"
    }
   ],
   "source": [
    "owned_leased = pd.pivot_table(parking, index = 'Owned/Leased', values = 'Total Parking Spaces', aggfunc = 'count')\n",
    "owned_leased"
   ]
  },
  {
   "cell_type": "markdown",
   "metadata": {},
   "source": [
    "##### Displaying"
   ]
  },
  {
   "cell_type": "code",
   "execution_count": 49,
   "metadata": {},
   "outputs": [
    {
     "data": {
      "image/png": "[encoded data removed]",
      "text/plain": [
       "<Figure size 648x504 with 1 Axes>"
      ]
     },
     "metadata": {},
     "output_type": "display_data"
    }
   ],
   "source": [
    "owned_leased.plot(kind='bar')\n",
    "plt.title('values for Owned/Leased', fontsize =15)\n",
    "plt.show()"
   ]
  },
  {
   "cell_type": "code",
   "execution_count": null,
   "metadata": {},
   "outputs": [],
   "source": []
  },
  {
   "cell_type": "markdown",
   "metadata": {},
   "source": [
    "### 2. In which Bldg State parking situation is in 'Excess', put in order."
   ]
  },
  {
   "cell_type": "code",
   "execution_count": 14,
   "metadata": {},
   "outputs": [
    {
     "data": {
      "text/html": [
       "<div>\n",
       "<style scoped>\n",
       "    .dataframe tbody tr th:only-of-type {\n",
       "        vertical-align: middle;\n",
       "    }\n",
       "\n",
       "    .dataframe tbody tr th {\n",
       "        vertical-align: top;\n",
       "    }\n",
       "\n",
       "    .dataframe thead th {\n",
       "        text-align: right;\n",
       "    }\n",
       "</style>\n",
       "<table border=\"1\" class=\"dataframe\">\n",
       "  <thead>\n",
       "    <tr style=\"text-align: right;\">\n",
       "      <th></th>\n",
       "      <th>Bldg City</th>\n",
       "      <th>Bldg State</th>\n",
       "      <th>Bldg Status</th>\n",
       "      <th>Property Type</th>\n",
       "      <th>Total Parking Spaces</th>\n",
       "      <th>Owned/Leased</th>\n",
       "    </tr>\n",
       "  </thead>\n",
       "  <tbody>\n",
       "    <tr>\n",
       "      <th>0</th>\n",
       "      <td>HARTFORD</td>\n",
       "      <td>CT</td>\n",
       "      <td>ACTIVE</td>\n",
       "      <td>BUILDING</td>\n",
       "      <td>29</td>\n",
       "      <td>OWNED</td>\n",
       "    </tr>\n",
       "    <tr>\n",
       "      <th>1</th>\n",
       "      <td>NEW HAVEN</td>\n",
       "      <td>CT</td>\n",
       "      <td>ACTIVE</td>\n",
       "      <td>BUILDING</td>\n",
       "      <td>0</td>\n",
       "      <td>OWNED</td>\n",
       "    </tr>\n",
       "    <tr>\n",
       "      <th>2</th>\n",
       "      <td>WATERBURY</td>\n",
       "      <td>CT</td>\n",
       "      <td>ACTIVE</td>\n",
       "      <td>BUILDING</td>\n",
       "      <td>2</td>\n",
       "      <td>LEASED</td>\n",
       "    </tr>\n",
       "    <tr>\n",
       "      <th>3</th>\n",
       "      <td>WILLIMANTIC</td>\n",
       "      <td>CT</td>\n",
       "      <td>ACTIVE</td>\n",
       "      <td>BUILDING</td>\n",
       "      <td>0</td>\n",
       "      <td>LEASED</td>\n",
       "    </tr>\n",
       "    <tr>\n",
       "      <th>4</th>\n",
       "      <td>HARTFORD</td>\n",
       "      <td>CT</td>\n",
       "      <td>ACTIVE</td>\n",
       "      <td>BUILDING</td>\n",
       "      <td>103</td>\n",
       "      <td>OWNED</td>\n",
       "    </tr>\n",
       "  </tbody>\n",
       "</table>\n",
       "</div>"
      ],
      "text/plain": [
       "     Bldg City Bldg State Bldg Status Property Type  Total Parking Spaces  \\\n",
       "0     HARTFORD         CT      ACTIVE      BUILDING                    29   \n",
       "1    NEW HAVEN         CT      ACTIVE      BUILDING                     0   \n",
       "2    WATERBURY         CT      ACTIVE      BUILDING                     2   \n",
       "3  WILLIMANTIC         CT      ACTIVE      BUILDING                     0   \n",
       "4     HARTFORD         CT      ACTIVE      BUILDING                   103   \n",
       "\n",
       "  Owned/Leased  \n",
       "0        OWNED  \n",
       "1        OWNED  \n",
       "2       LEASED  \n",
       "3       LEASED  \n",
       "4        OWNED  "
      ]
     },
     "execution_count": 14,
     "metadata": {},
     "output_type": "execute_result"
    }
   ],
   "source": [
    "parking.head()"
   ]
  },
  {
   "cell_type": "code",
   "execution_count": 15,
   "metadata": {},
   "outputs": [
    {
     "data": {
      "text/html": [
       "<div>\n",
       "<style scoped>\n",
       "    .dataframe tbody tr th:only-of-type {\n",
       "        vertical-align: middle;\n",
       "    }\n",
       "\n",
       "    .dataframe tbody tr th {\n",
       "        vertical-align: top;\n",
       "    }\n",
       "\n",
       "    .dataframe thead th {\n",
       "        text-align: right;\n",
       "    }\n",
       "</style>\n",
       "<table border=\"1\" class=\"dataframe\">\n",
       "  <thead>\n",
       "    <tr style=\"text-align: right;\">\n",
       "      <th></th>\n",
       "      <th>Bldg City</th>\n",
       "      <th>Bldg State</th>\n",
       "      <th>Bldg Status</th>\n",
       "      <th>Property Type</th>\n",
       "      <th>Total Parking Spaces</th>\n",
       "      <th>Owned/Leased</th>\n",
       "    </tr>\n",
       "  </thead>\n",
       "  <tbody>\n",
       "    <tr>\n",
       "      <th>1809</th>\n",
       "      <td>MONTCLAIR</td>\n",
       "      <td>NJ</td>\n",
       "      <td>EXCESS</td>\n",
       "      <td>BUILDING</td>\n",
       "      <td>29</td>\n",
       "      <td>OWNED</td>\n",
       "    </tr>\n",
       "    <tr>\n",
       "      <th>1881</th>\n",
       "      <td>BUFFALO</td>\n",
       "      <td>NY</td>\n",
       "      <td>EXCESS</td>\n",
       "      <td>BUILDING</td>\n",
       "      <td>0</td>\n",
       "      <td>OWNED</td>\n",
       "    </tr>\n",
       "    <tr>\n",
       "      <th>1925</th>\n",
       "      <td>BINGHAMTON</td>\n",
       "      <td>NY</td>\n",
       "      <td>EXCESS</td>\n",
       "      <td>BUILDING</td>\n",
       "      <td>0</td>\n",
       "      <td>OWNED</td>\n",
       "    </tr>\n",
       "    <tr>\n",
       "      <th>1926</th>\n",
       "      <td>BINGHAMTON</td>\n",
       "      <td>NY</td>\n",
       "      <td>EXCESS</td>\n",
       "      <td>BUILDING</td>\n",
       "      <td>0</td>\n",
       "      <td>OWNED</td>\n",
       "    </tr>\n",
       "    <tr>\n",
       "      <th>1927</th>\n",
       "      <td>BINGHAMTON</td>\n",
       "      <td>NY</td>\n",
       "      <td>EXCESS</td>\n",
       "      <td>BUILDING</td>\n",
       "      <td>0</td>\n",
       "      <td>OWNED</td>\n",
       "    </tr>\n",
       "  </tbody>\n",
       "</table>\n",
       "</div>"
      ],
      "text/plain": [
       "       Bldg City Bldg State Bldg Status Property Type  Total Parking Spaces  \\\n",
       "1809   MONTCLAIR         NJ      EXCESS      BUILDING                    29   \n",
       "1881     BUFFALO         NY      EXCESS      BUILDING                     0   \n",
       "1925  BINGHAMTON         NY      EXCESS      BUILDING                     0   \n",
       "1926  BINGHAMTON         NY      EXCESS      BUILDING                     0   \n",
       "1927  BINGHAMTON         NY      EXCESS      BUILDING                     0   \n",
       "\n",
       "     Owned/Leased  \n",
       "1809        OWNED  \n",
       "1881        OWNED  \n",
       "1925        OWNED  \n",
       "1926        OWNED  \n",
       "1927        OWNED  "
      ]
     },
     "execution_count": 15,
     "metadata": {},
     "output_type": "execute_result"
    }
   ],
   "source": [
    "# parking['Bldg State'[parking['Bldg Status'] == 'EXCESS']]\n",
    "\n",
    "parking[parking['Bldg Status'] == 'EXCESS'].head()"
   ]
  },
  {
   "cell_type": "code",
   "execution_count": 16,
   "metadata": {},
   "outputs": [
    {
     "data": {
      "text/plain": [
       "array(['ACTIVE', 'DECOMMISSIONED', 'EXCESS'], dtype=object)"
      ]
     },
     "execution_count": 16,
     "metadata": {},
     "output_type": "execute_result"
    }
   ],
   "source": [
    "parking['Bldg Status'].unique()"
   ]
  },
  {
   "cell_type": "markdown",
   "metadata": {},
   "source": [
    "##### This is will take much more time again so we will convert in to pd_pivot_table for faster execution"
   ]
  },
  {
   "cell_type": "code",
   "execution_count": 17,
   "metadata": {},
   "outputs": [
    {
     "data": {
      "text/html": [
       "<div>\n",
       "<style scoped>\n",
       "    .dataframe tbody tr th:only-of-type {\n",
       "        vertical-align: middle;\n",
       "    }\n",
       "\n",
       "    .dataframe tbody tr th {\n",
       "        vertical-align: top;\n",
       "    }\n",
       "\n",
       "    .dataframe thead th {\n",
       "        text-align: right;\n",
       "    }\n",
       "</style>\n",
       "<table border=\"1\" class=\"dataframe\">\n",
       "  <thead>\n",
       "    <tr style=\"text-align: right;\">\n",
       "      <th>Bldg Status</th>\n",
       "      <th>ACTIVE</th>\n",
       "      <th>DECOMMISSIONED</th>\n",
       "      <th>EXCESS</th>\n",
       "    </tr>\n",
       "    <tr>\n",
       "      <th>Bldg State</th>\n",
       "      <th></th>\n",
       "      <th></th>\n",
       "      <th></th>\n",
       "    </tr>\n",
       "  </thead>\n",
       "  <tbody>\n",
       "    <tr>\n",
       "      <th>AL</th>\n",
       "      <td>62.357724</td>\n",
       "      <td>NaN</td>\n",
       "      <td>59.000000</td>\n",
       "    </tr>\n",
       "    <tr>\n",
       "      <th>AR</th>\n",
       "      <td>37.000000</td>\n",
       "      <td>NaN</td>\n",
       "      <td>NaN</td>\n",
       "    </tr>\n",
       "    <tr>\n",
       "      <th>AZ</th>\n",
       "      <td>32.256757</td>\n",
       "      <td>NaN</td>\n",
       "      <td>NaN</td>\n",
       "    </tr>\n",
       "    <tr>\n",
       "      <th>CA</th>\n",
       "      <td>60.493298</td>\n",
       "      <td>NaN</td>\n",
       "      <td>NaN</td>\n",
       "    </tr>\n",
       "    <tr>\n",
       "      <th>CO</th>\n",
       "      <td>78.936709</td>\n",
       "      <td>NaN</td>\n",
       "      <td>22.200000</td>\n",
       "    </tr>\n",
       "    <tr>\n",
       "      <th>CT</th>\n",
       "      <td>29.327586</td>\n",
       "      <td>NaN</td>\n",
       "      <td>NaN</td>\n",
       "    </tr>\n",
       "    <tr>\n",
       "      <th>DC</th>\n",
       "      <td>41.255144</td>\n",
       "      <td>NaN</td>\n",
       "      <td>NaN</td>\n",
       "    </tr>\n",
       "    <tr>\n",
       "      <th>DE</th>\n",
       "      <td>15.750000</td>\n",
       "      <td>NaN</td>\n",
       "      <td>NaN</td>\n",
       "    </tr>\n",
       "    <tr>\n",
       "      <th>FL</th>\n",
       "      <td>51.905569</td>\n",
       "      <td>NaN</td>\n",
       "      <td>NaN</td>\n",
       "    </tr>\n",
       "    <tr>\n",
       "      <th>GA</th>\n",
       "      <td>76.408257</td>\n",
       "      <td>NaN</td>\n",
       "      <td>NaN</td>\n",
       "    </tr>\n",
       "    <tr>\n",
       "      <th>IA</th>\n",
       "      <td>27.202703</td>\n",
       "      <td>NaN</td>\n",
       "      <td>NaN</td>\n",
       "    </tr>\n",
       "    <tr>\n",
       "      <th>ID</th>\n",
       "      <td>39.274194</td>\n",
       "      <td>0.000000</td>\n",
       "      <td>NaN</td>\n",
       "    </tr>\n",
       "    <tr>\n",
       "      <th>IL</th>\n",
       "      <td>45.000000</td>\n",
       "      <td>NaN</td>\n",
       "      <td>21.000000</td>\n",
       "    </tr>\n",
       "    <tr>\n",
       "      <th>IN</th>\n",
       "      <td>44.069444</td>\n",
       "      <td>NaN</td>\n",
       "      <td>0.000000</td>\n",
       "    </tr>\n",
       "    <tr>\n",
       "      <th>KS</th>\n",
       "      <td>55.216216</td>\n",
       "      <td>NaN</td>\n",
       "      <td>NaN</td>\n",
       "    </tr>\n",
       "    <tr>\n",
       "      <th>KY</th>\n",
       "      <td>46.277372</td>\n",
       "      <td>NaN</td>\n",
       "      <td>NaN</td>\n",
       "    </tr>\n",
       "    <tr>\n",
       "      <th>LA</th>\n",
       "      <td>43.684932</td>\n",
       "      <td>NaN</td>\n",
       "      <td>68.666667</td>\n",
       "    </tr>\n",
       "    <tr>\n",
       "      <th>MA</th>\n",
       "      <td>55.905512</td>\n",
       "      <td>NaN</td>\n",
       "      <td>NaN</td>\n",
       "    </tr>\n",
       "    <tr>\n",
       "      <th>MD</th>\n",
       "      <td>104.185090</td>\n",
       "      <td>0.000000</td>\n",
       "      <td>43.166667</td>\n",
       "    </tr>\n",
       "    <tr>\n",
       "      <th>ME</th>\n",
       "      <td>16.917526</td>\n",
       "      <td>NaN</td>\n",
       "      <td>NaN</td>\n",
       "    </tr>\n",
       "    <tr>\n",
       "      <th>MI</th>\n",
       "      <td>41.608511</td>\n",
       "      <td>NaN</td>\n",
       "      <td>NaN</td>\n",
       "    </tr>\n",
       "    <tr>\n",
       "      <th>MN</th>\n",
       "      <td>43.418367</td>\n",
       "      <td>NaN</td>\n",
       "      <td>NaN</td>\n",
       "    </tr>\n",
       "    <tr>\n",
       "      <th>MO</th>\n",
       "      <td>121.200000</td>\n",
       "      <td>815.333333</td>\n",
       "      <td>254.272727</td>\n",
       "    </tr>\n",
       "    <tr>\n",
       "      <th>MS</th>\n",
       "      <td>43.908046</td>\n",
       "      <td>NaN</td>\n",
       "      <td>NaN</td>\n",
       "    </tr>\n",
       "    <tr>\n",
       "      <th>MT</th>\n",
       "      <td>15.326667</td>\n",
       "      <td>NaN</td>\n",
       "      <td>NaN</td>\n",
       "    </tr>\n",
       "    <tr>\n",
       "      <th>NC</th>\n",
       "      <td>34.995283</td>\n",
       "      <td>NaN</td>\n",
       "      <td>NaN</td>\n",
       "    </tr>\n",
       "    <tr>\n",
       "      <th>ND</th>\n",
       "      <td>13.475000</td>\n",
       "      <td>NaN</td>\n",
       "      <td>NaN</td>\n",
       "    </tr>\n",
       "    <tr>\n",
       "      <th>NE</th>\n",
       "      <td>54.060000</td>\n",
       "      <td>NaN</td>\n",
       "      <td>19.000000</td>\n",
       "    </tr>\n",
       "    <tr>\n",
       "      <th>NH</th>\n",
       "      <td>43.666667</td>\n",
       "      <td>NaN</td>\n",
       "      <td>NaN</td>\n",
       "    </tr>\n",
       "    <tr>\n",
       "      <th>NJ</th>\n",
       "      <td>32.169118</td>\n",
       "      <td>NaN</td>\n",
       "      <td>4.300000</td>\n",
       "    </tr>\n",
       "    <tr>\n",
       "      <th>NM</th>\n",
       "      <td>45.742647</td>\n",
       "      <td>NaN</td>\n",
       "      <td>NaN</td>\n",
       "    </tr>\n",
       "    <tr>\n",
       "      <th>NV</th>\n",
       "      <td>48.648649</td>\n",
       "      <td>NaN</td>\n",
       "      <td>173.000000</td>\n",
       "    </tr>\n",
       "    <tr>\n",
       "      <th>NY</th>\n",
       "      <td>39.635854</td>\n",
       "      <td>0.000000</td>\n",
       "      <td>0.000000</td>\n",
       "    </tr>\n",
       "    <tr>\n",
       "      <th>OH</th>\n",
       "      <td>38.621891</td>\n",
       "      <td>NaN</td>\n",
       "      <td>NaN</td>\n",
       "    </tr>\n",
       "    <tr>\n",
       "      <th>OK</th>\n",
       "      <td>39.108527</td>\n",
       "      <td>NaN</td>\n",
       "      <td>14.000000</td>\n",
       "    </tr>\n",
       "    <tr>\n",
       "      <th>OR</th>\n",
       "      <td>31.828571</td>\n",
       "      <td>NaN</td>\n",
       "      <td>NaN</td>\n",
       "    </tr>\n",
       "    <tr>\n",
       "      <th>PA</th>\n",
       "      <td>38.315574</td>\n",
       "      <td>NaN</td>\n",
       "      <td>0.000000</td>\n",
       "    </tr>\n",
       "    <tr>\n",
       "      <th>RI</th>\n",
       "      <td>25.148148</td>\n",
       "      <td>NaN</td>\n",
       "      <td>NaN</td>\n",
       "    </tr>\n",
       "    <tr>\n",
       "      <th>SC</th>\n",
       "      <td>36.768421</td>\n",
       "      <td>NaN</td>\n",
       "      <td>NaN</td>\n",
       "    </tr>\n",
       "    <tr>\n",
       "      <th>SD</th>\n",
       "      <td>22.742424</td>\n",
       "      <td>NaN</td>\n",
       "      <td>NaN</td>\n",
       "    </tr>\n",
       "    <tr>\n",
       "      <th>TN</th>\n",
       "      <td>53.934211</td>\n",
       "      <td>NaN</td>\n",
       "      <td>NaN</td>\n",
       "    </tr>\n",
       "    <tr>\n",
       "      <th>TX</th>\n",
       "      <td>54.639140</td>\n",
       "      <td>0.000000</td>\n",
       "      <td>0.000000</td>\n",
       "    </tr>\n",
       "    <tr>\n",
       "      <th>UT</th>\n",
       "      <td>83.260417</td>\n",
       "      <td>NaN</td>\n",
       "      <td>NaN</td>\n",
       "    </tr>\n",
       "    <tr>\n",
       "      <th>VA</th>\n",
       "      <td>70.731818</td>\n",
       "      <td>NaN</td>\n",
       "      <td>NaN</td>\n",
       "    </tr>\n",
       "    <tr>\n",
       "      <th>VT</th>\n",
       "      <td>34.666667</td>\n",
       "      <td>NaN</td>\n",
       "      <td>NaN</td>\n",
       "    </tr>\n",
       "    <tr>\n",
       "      <th>WA</th>\n",
       "      <td>43.938017</td>\n",
       "      <td>NaN</td>\n",
       "      <td>NaN</td>\n",
       "    </tr>\n",
       "    <tr>\n",
       "      <th>WI</th>\n",
       "      <td>23.247934</td>\n",
       "      <td>NaN</td>\n",
       "      <td>22.000000</td>\n",
       "    </tr>\n",
       "    <tr>\n",
       "      <th>WV</th>\n",
       "      <td>31.320755</td>\n",
       "      <td>NaN</td>\n",
       "      <td>NaN</td>\n",
       "    </tr>\n",
       "    <tr>\n",
       "      <th>WY</th>\n",
       "      <td>26.044444</td>\n",
       "      <td>NaN</td>\n",
       "      <td>NaN</td>\n",
       "    </tr>\n",
       "  </tbody>\n",
       "</table>\n",
       "</div>"
      ],
      "text/plain": [
       "Bldg Status      ACTIVE  DECOMMISSIONED      EXCESS\n",
       "Bldg State                                         \n",
       "AL            62.357724             NaN   59.000000\n",
       "AR            37.000000             NaN         NaN\n",
       "AZ            32.256757             NaN         NaN\n",
       "CA            60.493298             NaN         NaN\n",
       "CO            78.936709             NaN   22.200000\n",
       "CT            29.327586             NaN         NaN\n",
       "DC            41.255144             NaN         NaN\n",
       "DE            15.750000             NaN         NaN\n",
       "FL            51.905569             NaN         NaN\n",
       "GA            76.408257             NaN         NaN\n",
       "IA            27.202703             NaN         NaN\n",
       "ID            39.274194        0.000000         NaN\n",
       "IL            45.000000             NaN   21.000000\n",
       "IN            44.069444             NaN    0.000000\n",
       "KS            55.216216             NaN         NaN\n",
       "KY            46.277372             NaN         NaN\n",
       "LA            43.684932             NaN   68.666667\n",
       "MA            55.905512             NaN         NaN\n",
       "MD           104.185090        0.000000   43.166667\n",
       "ME            16.917526             NaN         NaN\n",
       "MI            41.608511             NaN         NaN\n",
       "MN            43.418367             NaN         NaN\n",
       "MO           121.200000      815.333333  254.272727\n",
       "MS            43.908046             NaN         NaN\n",
       "MT            15.326667             NaN         NaN\n",
       "NC            34.995283             NaN         NaN\n",
       "ND            13.475000             NaN         NaN\n",
       "NE            54.060000             NaN   19.000000\n",
       "NH            43.666667             NaN         NaN\n",
       "NJ            32.169118             NaN    4.300000\n",
       "NM            45.742647             NaN         NaN\n",
       "NV            48.648649             NaN  173.000000\n",
       "NY            39.635854        0.000000    0.000000\n",
       "OH            38.621891             NaN         NaN\n",
       "OK            39.108527             NaN   14.000000\n",
       "OR            31.828571             NaN         NaN\n",
       "PA            38.315574             NaN    0.000000\n",
       "RI            25.148148             NaN         NaN\n",
       "SC            36.768421             NaN         NaN\n",
       "SD            22.742424             NaN         NaN\n",
       "TN            53.934211             NaN         NaN\n",
       "TX            54.639140        0.000000    0.000000\n",
       "UT            83.260417             NaN         NaN\n",
       "VA            70.731818             NaN         NaN\n",
       "VT            34.666667             NaN         NaN\n",
       "WA            43.938017             NaN         NaN\n",
       "WI            23.247934             NaN   22.000000\n",
       "WV            31.320755             NaN         NaN\n",
       "WY            26.044444             NaN         NaN"
      ]
     },
     "execution_count": 17,
     "metadata": {},
     "output_type": "execute_result"
    }
   ],
   "source": [
    "excess_parking = pd.pivot_table(parking, index = 'Bldg State', columns = 'Bldg Status', values= 'Total Parking Spaces')\n",
    "excess_parking"
   ]
  },
  {
   "cell_type": "markdown",
   "metadata": {},
   "source": [
    "##### Since We're interested only in the 'Excess' column we will remove the 'NaN' values.\n",
    "##### In the above we took, \n",
    "- 'Bldg State' on the Index that's why we set it to the (index) parameter,\n",
    "- 'Bldg Status' on the (columns)\n",
    "- 'Total parking spaces' for their values"
   ]
  },
  {
   "cell_type": "code",
   "execution_count": 18,
   "metadata": {},
   "outputs": [
    {
     "data": {
      "text/html": [
       "<div>\n",
       "<style scoped>\n",
       "    .dataframe tbody tr th:only-of-type {\n",
       "        vertical-align: middle;\n",
       "    }\n",
       "\n",
       "    .dataframe tbody tr th {\n",
       "        vertical-align: top;\n",
       "    }\n",
       "\n",
       "    .dataframe thead th {\n",
       "        text-align: right;\n",
       "    }\n",
       "</style>\n",
       "<table border=\"1\" class=\"dataframe\">\n",
       "  <thead>\n",
       "    <tr style=\"text-align: right;\">\n",
       "      <th>Bldg Status</th>\n",
       "      <th>ACTIVE</th>\n",
       "      <th>DECOMMISSIONED</th>\n",
       "      <th>EXCESS</th>\n",
       "    </tr>\n",
       "    <tr>\n",
       "      <th>Bldg State</th>\n",
       "      <th></th>\n",
       "      <th></th>\n",
       "      <th></th>\n",
       "    </tr>\n",
       "  </thead>\n",
       "  <tbody>\n",
       "    <tr>\n",
       "      <th>AL</th>\n",
       "      <td>62.357724</td>\n",
       "      <td>NaN</td>\n",
       "      <td>59.000000</td>\n",
       "    </tr>\n",
       "    <tr>\n",
       "      <th>CO</th>\n",
       "      <td>78.936709</td>\n",
       "      <td>NaN</td>\n",
       "      <td>22.200000</td>\n",
       "    </tr>\n",
       "    <tr>\n",
       "      <th>IL</th>\n",
       "      <td>45.000000</td>\n",
       "      <td>NaN</td>\n",
       "      <td>21.000000</td>\n",
       "    </tr>\n",
       "    <tr>\n",
       "      <th>LA</th>\n",
       "      <td>43.684932</td>\n",
       "      <td>NaN</td>\n",
       "      <td>68.666667</td>\n",
       "    </tr>\n",
       "    <tr>\n",
       "      <th>MD</th>\n",
       "      <td>104.185090</td>\n",
       "      <td>0.000000</td>\n",
       "      <td>43.166667</td>\n",
       "    </tr>\n",
       "    <tr>\n",
       "      <th>MO</th>\n",
       "      <td>121.200000</td>\n",
       "      <td>815.333333</td>\n",
       "      <td>254.272727</td>\n",
       "    </tr>\n",
       "    <tr>\n",
       "      <th>NE</th>\n",
       "      <td>54.060000</td>\n",
       "      <td>NaN</td>\n",
       "      <td>19.000000</td>\n",
       "    </tr>\n",
       "    <tr>\n",
       "      <th>NJ</th>\n",
       "      <td>32.169118</td>\n",
       "      <td>NaN</td>\n",
       "      <td>4.300000</td>\n",
       "    </tr>\n",
       "    <tr>\n",
       "      <th>NV</th>\n",
       "      <td>48.648649</td>\n",
       "      <td>NaN</td>\n",
       "      <td>173.000000</td>\n",
       "    </tr>\n",
       "    <tr>\n",
       "      <th>OK</th>\n",
       "      <td>39.108527</td>\n",
       "      <td>NaN</td>\n",
       "      <td>14.000000</td>\n",
       "    </tr>\n",
       "    <tr>\n",
       "      <th>WI</th>\n",
       "      <td>23.247934</td>\n",
       "      <td>NaN</td>\n",
       "      <td>22.000000</td>\n",
       "    </tr>\n",
       "  </tbody>\n",
       "</table>\n",
       "</div>"
      ],
      "text/plain": [
       "Bldg Status      ACTIVE  DECOMMISSIONED      EXCESS\n",
       "Bldg State                                         \n",
       "AL            62.357724             NaN   59.000000\n",
       "CO            78.936709             NaN   22.200000\n",
       "IL            45.000000             NaN   21.000000\n",
       "LA            43.684932             NaN   68.666667\n",
       "MD           104.185090        0.000000   43.166667\n",
       "MO           121.200000      815.333333  254.272727\n",
       "NE            54.060000             NaN   19.000000\n",
       "NJ            32.169118             NaN    4.300000\n",
       "NV            48.648649             NaN  173.000000\n",
       "OK            39.108527             NaN   14.000000\n",
       "WI            23.247934             NaN   22.000000"
      ]
     },
     "execution_count": 18,
     "metadata": {},
     "output_type": "execute_result"
    }
   ],
   "source": [
    "excess_parking = excess_parking[excess_parking['EXCESS'] > 0 ]\n",
    "excess_parking\n",
    "# we filter all the values of 'Excess' column which are greater than 0"
   ]
  },
  {
   "cell_type": "code",
   "execution_count": 19,
   "metadata": {},
   "outputs": [
    {
     "data": {
      "text/plain": [
       "Index(['AL', 'CO', 'IL', 'LA', 'MD', 'MO', 'NE', 'NJ', 'NV', 'OK', 'WI'], dtype='object', name='Bldg State')"
      ]
     },
     "execution_count": 19,
     "metadata": {},
     "output_type": "execute_result"
    }
   ],
   "source": [
    "excess_parking.index"
   ]
  },
  {
   "cell_type": "markdown",
   "metadata": {},
   "source": [
    "##### Plotting The result."
   ]
  },
  {
   "cell_type": "code",
   "execution_count": 20,
   "metadata": {},
   "outputs": [
    {
     "data": {
      "image/png": "[encoded data removed]",
      "text/plain": [
       "<Figure size 864x504 with 1 Axes>"
      ]
     },
     "metadata": {},
     "output_type": "display_data"
    }
   ],
   "source": [
    "# plt.figure(figsize=(12,10))\n",
    "\n",
    "sns.set_context({'figure.figsize' : (12, 7)})\n",
    "sns.set_style('darkgrid')\n",
    "\n",
    "# plt.plot(kind = 'bar', x = excess_parking.index, y = excess_parking.values )\n",
    "\n",
    "excess_parking.plot(kind='bar')\n",
    "plt.title('Bldg State parking situation', fontsize =15)\n",
    "\n",
    "# # rcParams['figure.figsize'] = 11.7,8.27\n",
    "plt.show()"
   ]
  },
  {
   "cell_type": "markdown",
   "metadata": {},
   "source": [
    "##### Now Sorting the EXCESS data"
   ]
  },
  {
   "cell_type": "code",
   "execution_count": 21,
   "metadata": {},
   "outputs": [],
   "source": [
    "sorted_EXCESS = excess_parking['EXCESS'].sort_values(ascending = False)\n",
    "index_EXCESS = sorted_EXCESS.index"
   ]
  },
  {
   "cell_type": "code",
   "execution_count": 22,
   "metadata": {},
   "outputs": [
    {
     "data": {
      "text/plain": [
       "<BarContainer object of 11 artists>"
      ]
     },
     "execution_count": 22,
     "metadata": {},
     "output_type": "execute_result"
    },
    {
     "data": {
      "image/png": "[encoded data removed]",
      "text/plain": [
       "<Figure size 864x504 with 1 Axes>"
      ]
     },
     "metadata": {},
     "output_type": "display_data"
    }
   ],
   "source": [
    "plt.bar(index_EXCESS, sorted_EXCESS)"
   ]
  },
  {
   "cell_type": "markdown",
   "metadata": {},
   "source": [
    "##### So by our calculations 'MO' state has the highest 'EXCESS' values."
   ]
  },
  {
   "cell_type": "markdown",
   "metadata": {},
   "source": [
    "### 3. The Building Cities that have been 'Decommisioned' along with 'Total Parking'."
   ]
  },
  {
   "cell_type": "code",
   "execution_count": 23,
   "metadata": {},
   "outputs": [
    {
     "data": {
      "text/html": [
       "<div>\n",
       "<style scoped>\n",
       "    .dataframe tbody tr th:only-of-type {\n",
       "        vertical-align: middle;\n",
       "    }\n",
       "\n",
       "    .dataframe tbody tr th {\n",
       "        vertical-align: top;\n",
       "    }\n",
       "\n",
       "    .dataframe thead th {\n",
       "        text-align: right;\n",
       "    }\n",
       "</style>\n",
       "<table border=\"1\" class=\"dataframe\">\n",
       "  <thead>\n",
       "    <tr style=\"text-align: right;\">\n",
       "      <th></th>\n",
       "      <th>Bldg City</th>\n",
       "      <th>Bldg State</th>\n",
       "      <th>Bldg Status</th>\n",
       "      <th>Property Type</th>\n",
       "      <th>Total Parking Spaces</th>\n",
       "      <th>Owned/Leased</th>\n",
       "    </tr>\n",
       "  </thead>\n",
       "  <tbody>\n",
       "    <tr>\n",
       "      <th>0</th>\n",
       "      <td>HARTFORD</td>\n",
       "      <td>CT</td>\n",
       "      <td>ACTIVE</td>\n",
       "      <td>BUILDING</td>\n",
       "      <td>29</td>\n",
       "      <td>OWNED</td>\n",
       "    </tr>\n",
       "    <tr>\n",
       "      <th>1</th>\n",
       "      <td>NEW HAVEN</td>\n",
       "      <td>CT</td>\n",
       "      <td>ACTIVE</td>\n",
       "      <td>BUILDING</td>\n",
       "      <td>0</td>\n",
       "      <td>OWNED</td>\n",
       "    </tr>\n",
       "    <tr>\n",
       "      <th>2</th>\n",
       "      <td>WATERBURY</td>\n",
       "      <td>CT</td>\n",
       "      <td>ACTIVE</td>\n",
       "      <td>BUILDING</td>\n",
       "      <td>2</td>\n",
       "      <td>LEASED</td>\n",
       "    </tr>\n",
       "    <tr>\n",
       "      <th>3</th>\n",
       "      <td>WILLIMANTIC</td>\n",
       "      <td>CT</td>\n",
       "      <td>ACTIVE</td>\n",
       "      <td>BUILDING</td>\n",
       "      <td>0</td>\n",
       "      <td>LEASED</td>\n",
       "    </tr>\n",
       "    <tr>\n",
       "      <th>4</th>\n",
       "      <td>HARTFORD</td>\n",
       "      <td>CT</td>\n",
       "      <td>ACTIVE</td>\n",
       "      <td>BUILDING</td>\n",
       "      <td>103</td>\n",
       "      <td>OWNED</td>\n",
       "    </tr>\n",
       "  </tbody>\n",
       "</table>\n",
       "</div>"
      ],
      "text/plain": [
       "     Bldg City Bldg State Bldg Status Property Type  Total Parking Spaces  \\\n",
       "0     HARTFORD         CT      ACTIVE      BUILDING                    29   \n",
       "1    NEW HAVEN         CT      ACTIVE      BUILDING                     0   \n",
       "2    WATERBURY         CT      ACTIVE      BUILDING                     2   \n",
       "3  WILLIMANTIC         CT      ACTIVE      BUILDING                     0   \n",
       "4     HARTFORD         CT      ACTIVE      BUILDING                   103   \n",
       "\n",
       "  Owned/Leased  \n",
       "0        OWNED  \n",
       "1        OWNED  \n",
       "2       LEASED  \n",
       "3       LEASED  \n",
       "4        OWNED  "
      ]
     },
     "execution_count": 23,
     "metadata": {},
     "output_type": "execute_result"
    }
   ],
   "source": [
    "parking.head()"
   ]
  },
  {
   "cell_type": "code",
   "execution_count": 24,
   "metadata": {},
   "outputs": [
    {
     "data": {
      "text/html": [
       "<div>\n",
       "<style scoped>\n",
       "    .dataframe tbody tr th:only-of-type {\n",
       "        vertical-align: middle;\n",
       "    }\n",
       "\n",
       "    .dataframe tbody tr th {\n",
       "        vertical-align: top;\n",
       "    }\n",
       "\n",
       "    .dataframe thead th {\n",
       "        text-align: right;\n",
       "    }\n",
       "</style>\n",
       "<table border=\"1\" class=\"dataframe\">\n",
       "  <thead>\n",
       "    <tr style=\"text-align: right;\">\n",
       "      <th></th>\n",
       "      <th>Bldg City</th>\n",
       "      <th>Bldg State</th>\n",
       "      <th>Bldg Status</th>\n",
       "      <th>Property Type</th>\n",
       "      <th>Total Parking Spaces</th>\n",
       "      <th>Owned/Leased</th>\n",
       "    </tr>\n",
       "  </thead>\n",
       "  <tbody>\n",
       "    <tr>\n",
       "      <th>429</th>\n",
       "      <td>PORTHILL</td>\n",
       "      <td>ID</td>\n",
       "      <td>DECOMMISSIONED</td>\n",
       "      <td>BUILDING</td>\n",
       "      <td>0</td>\n",
       "      <td>OWNED</td>\n",
       "    </tr>\n",
       "    <tr>\n",
       "      <th>1933</th>\n",
       "      <td>MOOERS</td>\n",
       "      <td>NY</td>\n",
       "      <td>DECOMMISSIONED</td>\n",
       "      <td>BUILDING</td>\n",
       "      <td>0</td>\n",
       "      <td>OWNED</td>\n",
       "    </tr>\n",
       "    <tr>\n",
       "      <th>1934</th>\n",
       "      <td>MOOERS</td>\n",
       "      <td>NY</td>\n",
       "      <td>DECOMMISSIONED</td>\n",
       "      <td>BUILDING</td>\n",
       "      <td>0</td>\n",
       "      <td>OWNED</td>\n",
       "    </tr>\n",
       "    <tr>\n",
       "      <th>2338</th>\n",
       "      <td>CURTIS BAY</td>\n",
       "      <td>MD</td>\n",
       "      <td>DECOMMISSIONED</td>\n",
       "      <td>BUILDING</td>\n",
       "      <td>0</td>\n",
       "      <td>OWNED</td>\n",
       "    </tr>\n",
       "    <tr>\n",
       "      <th>2348</th>\n",
       "      <td>CURTIS BAY</td>\n",
       "      <td>MD</td>\n",
       "      <td>DECOMMISSIONED</td>\n",
       "      <td>BUILDING</td>\n",
       "      <td>0</td>\n",
       "      <td>OWNED</td>\n",
       "    </tr>\n",
       "    <tr>\n",
       "      <th>5716</th>\n",
       "      <td>OVERLAND</td>\n",
       "      <td>MO</td>\n",
       "      <td>DECOMMISSIONED</td>\n",
       "      <td>BUILDING</td>\n",
       "      <td>2089</td>\n",
       "      <td>OWNED</td>\n",
       "    </tr>\n",
       "    <tr>\n",
       "      <th>5725</th>\n",
       "      <td>SAINT LOUIS</td>\n",
       "      <td>MO</td>\n",
       "      <td>DECOMMISSIONED</td>\n",
       "      <td>BUILDING</td>\n",
       "      <td>357</td>\n",
       "      <td>OWNED</td>\n",
       "    </tr>\n",
       "    <tr>\n",
       "      <th>5726</th>\n",
       "      <td>SAINT LOUIS</td>\n",
       "      <td>MO</td>\n",
       "      <td>DECOMMISSIONED</td>\n",
       "      <td>BUILDING</td>\n",
       "      <td>0</td>\n",
       "      <td>OWNED</td>\n",
       "    </tr>\n",
       "    <tr>\n",
       "      <th>6752</th>\n",
       "      <td>FORT WORTH</td>\n",
       "      <td>TX</td>\n",
       "      <td>DECOMMISSIONED</td>\n",
       "      <td>BUILDING</td>\n",
       "      <td>0</td>\n",
       "      <td>OWNED</td>\n",
       "    </tr>\n",
       "  </tbody>\n",
       "</table>\n",
       "</div>"
      ],
      "text/plain": [
       "        Bldg City Bldg State     Bldg Status Property Type  \\\n",
       "429      PORTHILL         ID  DECOMMISSIONED      BUILDING   \n",
       "1933       MOOERS         NY  DECOMMISSIONED      BUILDING   \n",
       "1934       MOOERS         NY  DECOMMISSIONED      BUILDING   \n",
       "2338   CURTIS BAY         MD  DECOMMISSIONED      BUILDING   \n",
       "2348   CURTIS BAY         MD  DECOMMISSIONED      BUILDING   \n",
       "5716     OVERLAND         MO  DECOMMISSIONED      BUILDING   \n",
       "5725  SAINT LOUIS         MO  DECOMMISSIONED      BUILDING   \n",
       "5726  SAINT LOUIS         MO  DECOMMISSIONED      BUILDING   \n",
       "6752   FORT WORTH         TX  DECOMMISSIONED      BUILDING   \n",
       "\n",
       "      Total Parking Spaces Owned/Leased  \n",
       "429                      0        OWNED  \n",
       "1933                     0        OWNED  \n",
       "1934                     0        OWNED  \n",
       "2338                     0        OWNED  \n",
       "2348                     0        OWNED  \n",
       "5716                  2089        OWNED  \n",
       "5725                   357        OWNED  \n",
       "5726                     0        OWNED  \n",
       "6752                     0        OWNED  "
      ]
     },
     "execution_count": 24,
     "metadata": {},
     "output_type": "execute_result"
    }
   ],
   "source": [
    "parking[parking['Bldg Status'] == 'DECOMMISSIONED']"
   ]
  },
  {
   "cell_type": "markdown",
   "metadata": {},
   "source": [
    "##### Filtering all the values above 0 "
   ]
  },
  {
   "cell_type": "code",
   "execution_count": 25,
   "metadata": {},
   "outputs": [
    {
     "data": {
      "text/html": [
       "<div>\n",
       "<style scoped>\n",
       "    .dataframe tbody tr th:only-of-type {\n",
       "        vertical-align: middle;\n",
       "    }\n",
       "\n",
       "    .dataframe tbody tr th {\n",
       "        vertical-align: top;\n",
       "    }\n",
       "\n",
       "    .dataframe thead th {\n",
       "        text-align: right;\n",
       "    }\n",
       "</style>\n",
       "<table border=\"1\" class=\"dataframe\">\n",
       "  <thead>\n",
       "    <tr style=\"text-align: right;\">\n",
       "      <th>Bldg Status</th>\n",
       "      <th>ACTIVE</th>\n",
       "      <th>DECOMMISSIONED</th>\n",
       "      <th>EXCESS</th>\n",
       "    </tr>\n",
       "    <tr>\n",
       "      <th>Bldg City</th>\n",
       "      <th></th>\n",
       "      <th></th>\n",
       "      <th></th>\n",
       "    </tr>\n",
       "  </thead>\n",
       "  <tbody>\n",
       "    <tr>\n",
       "      <th>OVERLAND</th>\n",
       "      <td>21.666667</td>\n",
       "      <td>2089.0</td>\n",
       "      <td>NaN</td>\n",
       "    </tr>\n",
       "    <tr>\n",
       "      <th>SAINT LOUIS</th>\n",
       "      <td>135.977273</td>\n",
       "      <td>178.5</td>\n",
       "      <td>NaN</td>\n",
       "    </tr>\n",
       "  </tbody>\n",
       "</table>\n",
       "</div>"
      ],
      "text/plain": [
       "Bldg Status      ACTIVE  DECOMMISSIONED  EXCESS\n",
       "Bldg City                                      \n",
       "OVERLAND      21.666667          2089.0     NaN\n",
       "SAINT LOUIS  135.977273           178.5     NaN"
      ]
     },
     "execution_count": 25,
     "metadata": {},
     "output_type": "execute_result"
    }
   ],
   "source": [
    "decommissioned_cities = pd.pivot_table(parking, index = 'Bldg City', columns = 'Bldg Status', values = 'Total Parking Spaces')\n",
    "decommissioned_cities = decommissioned_cities[decommissioned_cities['DECOMMISSIONED'] > 0]\n",
    "decommissioned_cities"
   ]
  },
  {
   "cell_type": "markdown",
   "metadata": {},
   "source": [
    "##### Plotting"
   ]
  },
  {
   "cell_type": "code",
   "execution_count": 26,
   "metadata": {},
   "outputs": [
    {
     "data": {
      "image/png": "[encoded data removed]",
      "text/plain": [
       "<Figure size 288x288 with 1 Axes>"
      ]
     },
     "metadata": {},
     "output_type": "display_data"
    }
   ],
   "source": [
    "sns.set_context({'figure.figsize' : (4, 4)})\n",
    "sns.set_style('darkgrid')\n",
    "plt.bar(decommissioned_cities.index, decommissioned_cities['DECOMMISSIONED'], color = 'tab:red')\n",
    "plt.title('Building Status with Parking Space Value',  fontsize =15)\n",
    "plt.show()"
   ]
  },
  {
   "cell_type": "markdown",
   "metadata": {},
   "source": [
    "### 4. In which type of Property Parking space is in 'Excess'."
   ]
  },
  {
   "cell_type": "code",
   "execution_count": 27,
   "metadata": {},
   "outputs": [
    {
     "data": {
      "text/html": [
       "<div>\n",
       "<style scoped>\n",
       "    .dataframe tbody tr th:only-of-type {\n",
       "        vertical-align: middle;\n",
       "    }\n",
       "\n",
       "    .dataframe tbody tr th {\n",
       "        vertical-align: top;\n",
       "    }\n",
       "\n",
       "    .dataframe thead th {\n",
       "        text-align: right;\n",
       "    }\n",
       "</style>\n",
       "<table border=\"1\" class=\"dataframe\">\n",
       "  <thead>\n",
       "    <tr style=\"text-align: right;\">\n",
       "      <th></th>\n",
       "      <th>Bldg City</th>\n",
       "      <th>Bldg State</th>\n",
       "      <th>Bldg Status</th>\n",
       "      <th>Property Type</th>\n",
       "      <th>Total Parking Spaces</th>\n",
       "      <th>Owned/Leased</th>\n",
       "    </tr>\n",
       "  </thead>\n",
       "  <tbody>\n",
       "    <tr>\n",
       "      <th>0</th>\n",
       "      <td>HARTFORD</td>\n",
       "      <td>CT</td>\n",
       "      <td>ACTIVE</td>\n",
       "      <td>BUILDING</td>\n",
       "      <td>29</td>\n",
       "      <td>OWNED</td>\n",
       "    </tr>\n",
       "    <tr>\n",
       "      <th>1</th>\n",
       "      <td>NEW HAVEN</td>\n",
       "      <td>CT</td>\n",
       "      <td>ACTIVE</td>\n",
       "      <td>BUILDING</td>\n",
       "      <td>0</td>\n",
       "      <td>OWNED</td>\n",
       "    </tr>\n",
       "    <tr>\n",
       "      <th>2</th>\n",
       "      <td>WATERBURY</td>\n",
       "      <td>CT</td>\n",
       "      <td>ACTIVE</td>\n",
       "      <td>BUILDING</td>\n",
       "      <td>2</td>\n",
       "      <td>LEASED</td>\n",
       "    </tr>\n",
       "    <tr>\n",
       "      <th>3</th>\n",
       "      <td>WILLIMANTIC</td>\n",
       "      <td>CT</td>\n",
       "      <td>ACTIVE</td>\n",
       "      <td>BUILDING</td>\n",
       "      <td>0</td>\n",
       "      <td>LEASED</td>\n",
       "    </tr>\n",
       "    <tr>\n",
       "      <th>4</th>\n",
       "      <td>HARTFORD</td>\n",
       "      <td>CT</td>\n",
       "      <td>ACTIVE</td>\n",
       "      <td>BUILDING</td>\n",
       "      <td>103</td>\n",
       "      <td>OWNED</td>\n",
       "    </tr>\n",
       "  </tbody>\n",
       "</table>\n",
       "</div>"
      ],
      "text/plain": [
       "     Bldg City Bldg State Bldg Status Property Type  Total Parking Spaces  \\\n",
       "0     HARTFORD         CT      ACTIVE      BUILDING                    29   \n",
       "1    NEW HAVEN         CT      ACTIVE      BUILDING                     0   \n",
       "2    WATERBURY         CT      ACTIVE      BUILDING                     2   \n",
       "3  WILLIMANTIC         CT      ACTIVE      BUILDING                     0   \n",
       "4     HARTFORD         CT      ACTIVE      BUILDING                   103   \n",
       "\n",
       "  Owned/Leased  \n",
       "0        OWNED  \n",
       "1        OWNED  \n",
       "2       LEASED  \n",
       "3       LEASED  \n",
       "4        OWNED  "
      ]
     },
     "execution_count": 27,
     "metadata": {},
     "output_type": "execute_result"
    }
   ],
   "source": [
    "parking.head()"
   ]
  },
  {
   "cell_type": "code",
   "execution_count": 28,
   "metadata": {},
   "outputs": [
    {
     "data": {
      "text/plain": [
       "array(['ACTIVE', 'DECOMMISSIONED', 'EXCESS'], dtype=object)"
      ]
     },
     "execution_count": 28,
     "metadata": {},
     "output_type": "execute_result"
    }
   ],
   "source": [
    "parking['Bldg Status'].unique()"
   ]
  },
  {
   "cell_type": "code",
   "execution_count": 29,
   "metadata": {},
   "outputs": [
    {
     "data": {
      "text/plain": [
       "array(['BUILDING', 'STRUCTURE', 'LAND'], dtype=object)"
      ]
     },
     "execution_count": 29,
     "metadata": {},
     "output_type": "execute_result"
    }
   ],
   "source": [
    "parking['Property Type'].unique()"
   ]
  },
  {
   "cell_type": "code",
   "execution_count": 30,
   "metadata": {},
   "outputs": [
    {
     "data": {
      "text/html": [
       "<div>\n",
       "<style scoped>\n",
       "    .dataframe tbody tr th:only-of-type {\n",
       "        vertical-align: middle;\n",
       "    }\n",
       "\n",
       "    .dataframe tbody tr th {\n",
       "        vertical-align: top;\n",
       "    }\n",
       "\n",
       "    .dataframe thead th {\n",
       "        text-align: right;\n",
       "    }\n",
       "</style>\n",
       "<table border=\"1\" class=\"dataframe\">\n",
       "  <thead>\n",
       "    <tr style=\"text-align: right;\">\n",
       "      <th></th>\n",
       "      <th>Bldg City</th>\n",
       "      <th>Bldg State</th>\n",
       "      <th>Bldg Status</th>\n",
       "      <th>Property Type</th>\n",
       "      <th>Total Parking Spaces</th>\n",
       "      <th>Owned/Leased</th>\n",
       "    </tr>\n",
       "  </thead>\n",
       "  <tbody>\n",
       "    <tr>\n",
       "      <th>1809</th>\n",
       "      <td>MONTCLAIR</td>\n",
       "      <td>NJ</td>\n",
       "      <td>EXCESS</td>\n",
       "      <td>BUILDING</td>\n",
       "      <td>29</td>\n",
       "      <td>OWNED</td>\n",
       "    </tr>\n",
       "    <tr>\n",
       "      <th>1881</th>\n",
       "      <td>BUFFALO</td>\n",
       "      <td>NY</td>\n",
       "      <td>EXCESS</td>\n",
       "      <td>BUILDING</td>\n",
       "      <td>0</td>\n",
       "      <td>OWNED</td>\n",
       "    </tr>\n",
       "    <tr>\n",
       "      <th>1925</th>\n",
       "      <td>BINGHAMTON</td>\n",
       "      <td>NY</td>\n",
       "      <td>EXCESS</td>\n",
       "      <td>BUILDING</td>\n",
       "      <td>0</td>\n",
       "      <td>OWNED</td>\n",
       "    </tr>\n",
       "    <tr>\n",
       "      <th>1926</th>\n",
       "      <td>BINGHAMTON</td>\n",
       "      <td>NY</td>\n",
       "      <td>EXCESS</td>\n",
       "      <td>BUILDING</td>\n",
       "      <td>0</td>\n",
       "      <td>OWNED</td>\n",
       "    </tr>\n",
       "    <tr>\n",
       "      <th>1927</th>\n",
       "      <td>BINGHAMTON</td>\n",
       "      <td>NY</td>\n",
       "      <td>EXCESS</td>\n",
       "      <td>BUILDING</td>\n",
       "      <td>0</td>\n",
       "      <td>OWNED</td>\n",
       "    </tr>\n",
       "  </tbody>\n",
       "</table>\n",
       "</div>"
      ],
      "text/plain": [
       "       Bldg City Bldg State Bldg Status Property Type  Total Parking Spaces  \\\n",
       "1809   MONTCLAIR         NJ      EXCESS      BUILDING                    29   \n",
       "1881     BUFFALO         NY      EXCESS      BUILDING                     0   \n",
       "1925  BINGHAMTON         NY      EXCESS      BUILDING                     0   \n",
       "1926  BINGHAMTON         NY      EXCESS      BUILDING                     0   \n",
       "1927  BINGHAMTON         NY      EXCESS      BUILDING                     0   \n",
       "\n",
       "     Owned/Leased  \n",
       "1809        OWNED  \n",
       "1881        OWNED  \n",
       "1925        OWNED  \n",
       "1926        OWNED  \n",
       "1927        OWNED  "
      ]
     },
     "execution_count": 30,
     "metadata": {},
     "output_type": "execute_result"
    }
   ],
   "source": [
    "property_Excess_rows = parking[parking['Bldg Status'] == 'EXCESS']\n",
    "property_Excess_rows.head()"
   ]
  },
  {
   "cell_type": "code",
   "execution_count": 31,
   "metadata": {},
   "outputs": [
    {
     "data": {
      "text/html": [
       "<div>\n",
       "<style scoped>\n",
       "    .dataframe tbody tr th:only-of-type {\n",
       "        vertical-align: middle;\n",
       "    }\n",
       "\n",
       "    .dataframe tbody tr th {\n",
       "        vertical-align: top;\n",
       "    }\n",
       "\n",
       "    .dataframe thead th {\n",
       "        text-align: right;\n",
       "    }\n",
       "</style>\n",
       "<table border=\"1\" class=\"dataframe\">\n",
       "  <thead>\n",
       "    <tr style=\"text-align: right;\">\n",
       "      <th></th>\n",
       "      <th>Total Parking Spaces</th>\n",
       "    </tr>\n",
       "    <tr>\n",
       "      <th>Property Type</th>\n",
       "      <th></th>\n",
       "    </tr>\n",
       "  </thead>\n",
       "  <tbody>\n",
       "    <tr>\n",
       "      <th>BUILDING</th>\n",
       "      <td>57.791045</td>\n",
       "    </tr>\n",
       "    <tr>\n",
       "      <th>STRUCTURE</th>\n",
       "      <td>37.000000</td>\n",
       "    </tr>\n",
       "  </tbody>\n",
       "</table>\n",
       "</div>"
      ],
      "text/plain": [
       "               Total Parking Spaces\n",
       "Property Type                      \n",
       "BUILDING                  57.791045\n",
       "STRUCTURE                 37.000000"
      ]
     },
     "execution_count": 31,
     "metadata": {},
     "output_type": "execute_result"
    }
   ],
   "source": [
    "property_type_excess = pd.pivot_table(property_Excess_rows, index = 'Property Type', values='Total Parking Spaces')\n",
    "property_type_excess"
   ]
  },
  {
   "cell_type": "markdown",
   "metadata": {},
   "source": [
    "##### Plotting"
   ]
  },
  {
   "cell_type": "code",
   "execution_count": 32,
   "metadata": {},
   "outputs": [
    {
     "data": {
      "image/png": "[encoded data removed]",
      "text/plain": [
       "<Figure size 288x288 with 1 Axes>"
      ]
     },
     "metadata": {},
     "output_type": "display_data"
    }
   ],
   "source": [
    "sns.set_context({'figure.figsize' : (4, 4)})\n",
    "# sns.set_style('darkgrid')\n",
    "plt.bar(property_type_excess.index, property_type_excess['Total Parking Spaces'], color = 'navy')\n",
    "plt.title('Building Status with Parking Space Value',  fontsize =15)\n",
    "plt.show()"
   ]
  },
  {
   "cell_type": "markdown",
   "metadata": {},
   "source": [
    "### 5. Where 'Bldg Status' is more 'ACTIVE' Parking. Columns : Owned/Leased"
   ]
  },
  {
   "cell_type": "code",
   "execution_count": 33,
   "metadata": {},
   "outputs": [
    {
     "data": {
      "text/html": [
       "<div>\n",
       "<style scoped>\n",
       "    .dataframe tbody tr th:only-of-type {\n",
       "        vertical-align: middle;\n",
       "    }\n",
       "\n",
       "    .dataframe tbody tr th {\n",
       "        vertical-align: top;\n",
       "    }\n",
       "\n",
       "    .dataframe thead th {\n",
       "        text-align: right;\n",
       "    }\n",
       "</style>\n",
       "<table border=\"1\" class=\"dataframe\">\n",
       "  <thead>\n",
       "    <tr style=\"text-align: right;\">\n",
       "      <th></th>\n",
       "      <th>Bldg City</th>\n",
       "      <th>Bldg State</th>\n",
       "      <th>Bldg Status</th>\n",
       "      <th>Property Type</th>\n",
       "      <th>Total Parking Spaces</th>\n",
       "      <th>Owned/Leased</th>\n",
       "    </tr>\n",
       "  </thead>\n",
       "  <tbody>\n",
       "    <tr>\n",
       "      <th>0</th>\n",
       "      <td>HARTFORD</td>\n",
       "      <td>CT</td>\n",
       "      <td>ACTIVE</td>\n",
       "      <td>BUILDING</td>\n",
       "      <td>29</td>\n",
       "      <td>OWNED</td>\n",
       "    </tr>\n",
       "    <tr>\n",
       "      <th>1</th>\n",
       "      <td>NEW HAVEN</td>\n",
       "      <td>CT</td>\n",
       "      <td>ACTIVE</td>\n",
       "      <td>BUILDING</td>\n",
       "      <td>0</td>\n",
       "      <td>OWNED</td>\n",
       "    </tr>\n",
       "    <tr>\n",
       "      <th>2</th>\n",
       "      <td>WATERBURY</td>\n",
       "      <td>CT</td>\n",
       "      <td>ACTIVE</td>\n",
       "      <td>BUILDING</td>\n",
       "      <td>2</td>\n",
       "      <td>LEASED</td>\n",
       "    </tr>\n",
       "    <tr>\n",
       "      <th>3</th>\n",
       "      <td>WILLIMANTIC</td>\n",
       "      <td>CT</td>\n",
       "      <td>ACTIVE</td>\n",
       "      <td>BUILDING</td>\n",
       "      <td>0</td>\n",
       "      <td>LEASED</td>\n",
       "    </tr>\n",
       "    <tr>\n",
       "      <th>4</th>\n",
       "      <td>HARTFORD</td>\n",
       "      <td>CT</td>\n",
       "      <td>ACTIVE</td>\n",
       "      <td>BUILDING</td>\n",
       "      <td>103</td>\n",
       "      <td>OWNED</td>\n",
       "    </tr>\n",
       "  </tbody>\n",
       "</table>\n",
       "</div>"
      ],
      "text/plain": [
       "     Bldg City Bldg State Bldg Status Property Type  Total Parking Spaces  \\\n",
       "0     HARTFORD         CT      ACTIVE      BUILDING                    29   \n",
       "1    NEW HAVEN         CT      ACTIVE      BUILDING                     0   \n",
       "2    WATERBURY         CT      ACTIVE      BUILDING                     2   \n",
       "3  WILLIMANTIC         CT      ACTIVE      BUILDING                     0   \n",
       "4     HARTFORD         CT      ACTIVE      BUILDING                   103   \n",
       "\n",
       "  Owned/Leased  \n",
       "0        OWNED  \n",
       "1        OWNED  \n",
       "2       LEASED  \n",
       "3       LEASED  \n",
       "4        OWNED  "
      ]
     },
     "execution_count": 33,
     "metadata": {},
     "output_type": "execute_result"
    }
   ],
   "source": [
    "parking.head()"
   ]
  },
  {
   "cell_type": "code",
   "execution_count": 34,
   "metadata": {},
   "outputs": [
    {
     "data": {
      "text/html": [
       "<div>\n",
       "<style scoped>\n",
       "    .dataframe tbody tr th:only-of-type {\n",
       "        vertical-align: middle;\n",
       "    }\n",
       "\n",
       "    .dataframe tbody tr th {\n",
       "        vertical-align: top;\n",
       "    }\n",
       "\n",
       "    .dataframe thead th {\n",
       "        text-align: right;\n",
       "    }\n",
       "</style>\n",
       "<table border=\"1\" class=\"dataframe\">\n",
       "  <thead>\n",
       "    <tr style=\"text-align: right;\">\n",
       "      <th></th>\n",
       "      <th>Bldg City</th>\n",
       "      <th>Bldg State</th>\n",
       "      <th>Bldg Status</th>\n",
       "      <th>Property Type</th>\n",
       "      <th>Total Parking Spaces</th>\n",
       "      <th>Owned/Leased</th>\n",
       "    </tr>\n",
       "  </thead>\n",
       "  <tbody>\n",
       "    <tr>\n",
       "      <th>0</th>\n",
       "      <td>HARTFORD</td>\n",
       "      <td>CT</td>\n",
       "      <td>ACTIVE</td>\n",
       "      <td>BUILDING</td>\n",
       "      <td>29</td>\n",
       "      <td>OWNED</td>\n",
       "    </tr>\n",
       "    <tr>\n",
       "      <th>1</th>\n",
       "      <td>NEW HAVEN</td>\n",
       "      <td>CT</td>\n",
       "      <td>ACTIVE</td>\n",
       "      <td>BUILDING</td>\n",
       "      <td>0</td>\n",
       "      <td>OWNED</td>\n",
       "    </tr>\n",
       "    <tr>\n",
       "      <th>2</th>\n",
       "      <td>WATERBURY</td>\n",
       "      <td>CT</td>\n",
       "      <td>ACTIVE</td>\n",
       "      <td>BUILDING</td>\n",
       "      <td>2</td>\n",
       "      <td>LEASED</td>\n",
       "    </tr>\n",
       "    <tr>\n",
       "      <th>3</th>\n",
       "      <td>WILLIMANTIC</td>\n",
       "      <td>CT</td>\n",
       "      <td>ACTIVE</td>\n",
       "      <td>BUILDING</td>\n",
       "      <td>0</td>\n",
       "      <td>LEASED</td>\n",
       "    </tr>\n",
       "    <tr>\n",
       "      <th>4</th>\n",
       "      <td>HARTFORD</td>\n",
       "      <td>CT</td>\n",
       "      <td>ACTIVE</td>\n",
       "      <td>BUILDING</td>\n",
       "      <td>103</td>\n",
       "      <td>OWNED</td>\n",
       "    </tr>\n",
       "  </tbody>\n",
       "</table>\n",
       "</div>"
      ],
      "text/plain": [
       "     Bldg City Bldg State Bldg Status Property Type  Total Parking Spaces  \\\n",
       "0     HARTFORD         CT      ACTIVE      BUILDING                    29   \n",
       "1    NEW HAVEN         CT      ACTIVE      BUILDING                     0   \n",
       "2    WATERBURY         CT      ACTIVE      BUILDING                     2   \n",
       "3  WILLIMANTIC         CT      ACTIVE      BUILDING                     0   \n",
       "4     HARTFORD         CT      ACTIVE      BUILDING                   103   \n",
       "\n",
       "  Owned/Leased  \n",
       "0        OWNED  \n",
       "1        OWNED  \n",
       "2       LEASED  \n",
       "3       LEASED  \n",
       "4        OWNED  "
      ]
     },
     "execution_count": 34,
     "metadata": {},
     "output_type": "execute_result"
    }
   ],
   "source": [
    "bldg_active = parking[parking['Bldg Status'] == 'ACTIVE' ]\n",
    "bldg_active.head()"
   ]
  },
  {
   "cell_type": "code",
   "execution_count": 35,
   "metadata": {},
   "outputs": [
    {
     "data": {
      "text/html": [
       "<div>\n",
       "<style scoped>\n",
       "    .dataframe tbody tr th:only-of-type {\n",
       "        vertical-align: middle;\n",
       "    }\n",
       "\n",
       "    .dataframe tbody tr th {\n",
       "        vertical-align: top;\n",
       "    }\n",
       "\n",
       "    .dataframe thead th {\n",
       "        text-align: right;\n",
       "    }\n",
       "</style>\n",
       "<table border=\"1\" class=\"dataframe\">\n",
       "  <thead>\n",
       "    <tr style=\"text-align: right;\">\n",
       "      <th></th>\n",
       "      <th>Total Parking Spaces</th>\n",
       "    </tr>\n",
       "    <tr>\n",
       "      <th>Owned/Leased</th>\n",
       "      <th></th>\n",
       "    </tr>\n",
       "  </thead>\n",
       "  <tbody>\n",
       "    <tr>\n",
       "      <th>LEASED</th>\n",
       "      <td>44.707349</td>\n",
       "    </tr>\n",
       "    <tr>\n",
       "      <th>OWNED</th>\n",
       "      <td>74.365997</td>\n",
       "    </tr>\n",
       "  </tbody>\n",
       "</table>\n",
       "</div>"
      ],
      "text/plain": [
       "              Total Parking Spaces\n",
       "Owned/Leased                      \n",
       "LEASED                   44.707349\n",
       "OWNED                    74.365997"
      ]
     },
     "execution_count": 35,
     "metadata": {},
     "output_type": "execute_result"
    }
   ],
   "source": [
    "own_leas_space = pd.pivot_table(bldg_active, index = 'Owned/Leased', values='Total Parking Spaces')\n",
    "own_leas_space"
   ]
  },
  {
   "cell_type": "markdown",
   "metadata": {},
   "source": [
    "##### By the above Calculation, On average, 'Owned' section has more 'Parking Space' then 'Leased'. Average because the 'pd.pivot'  we're using 'aggfunc='mean'' , if we want some other rule just replace it."
   ]
  },
  {
   "cell_type": "markdown",
   "metadata": {},
   "source": [
    "#### Now calculating the Percentage of above."
   ]
  },
  {
   "cell_type": "code",
   "execution_count": 36,
   "metadata": {},
   "outputs": [
    {
     "data": {
      "text/html": [
       "<div>\n",
       "<style scoped>\n",
       "    .dataframe tbody tr th:only-of-type {\n",
       "        vertical-align: middle;\n",
       "    }\n",
       "\n",
       "    .dataframe tbody tr th {\n",
       "        vertical-align: top;\n",
       "    }\n",
       "\n",
       "    .dataframe thead th {\n",
       "        text-align: right;\n",
       "    }\n",
       "</style>\n",
       "<table border=\"1\" class=\"dataframe\">\n",
       "  <thead>\n",
       "    <tr style=\"text-align: right;\">\n",
       "      <th></th>\n",
       "      <th>Total Parking Spaces</th>\n",
       "      <th>Proportions</th>\n",
       "    </tr>\n",
       "    <tr>\n",
       "      <th>Owned/Leased</th>\n",
       "      <th></th>\n",
       "      <th></th>\n",
       "    </tr>\n",
       "  </thead>\n",
       "  <tbody>\n",
       "    <tr>\n",
       "      <th>LEASED</th>\n",
       "      <td>44.707349</td>\n",
       "      <td>37.5</td>\n",
       "    </tr>\n",
       "    <tr>\n",
       "      <th>OWNED</th>\n",
       "      <td>74.365997</td>\n",
       "      <td>62.5</td>\n",
       "    </tr>\n",
       "  </tbody>\n",
       "</table>\n",
       "</div>"
      ],
      "text/plain": [
       "              Total Parking Spaces  Proportions\n",
       "Owned/Leased                                   \n",
       "LEASED                   44.707349         37.5\n",
       "OWNED                    74.365997         62.5"
      ]
     },
     "execution_count": 36,
     "metadata": {},
     "output_type": "execute_result"
    }
   ],
   "source": [
    "own_leas_space['Proportions'] = np.round((own_leas_space / own_leas_space.sum()) * 100, 1)\n",
    "own_leas_space"
   ]
  },
  {
   "cell_type": "markdown",
   "metadata": {},
   "source": [
    "##### Visualizing Proportions by Pie Chart"
   ]
  },
  {
   "cell_type": "code",
   "execution_count": 50,
   "metadata": {},
   "outputs": [
    {
     "data": {
      "image/png": "[encoded data removed]",
      "text/plain": [
       "<Figure size 432x432 with 1 Axes>"
      ]
     },
     "metadata": {},
     "output_type": "display_data"
    }
   ],
   "source": [
    "plt.figure(figsize=(6, 6))\n",
    "plt.pie(own_leas_space['Proportions'],\n",
    "        autopct = '%1.1f%%',\n",
    "        colors = ('r', 'g', 'orange'),\n",
    "        textprops=dict(color=\"w\"),\n",
    "       )\n",
    "params = {'font.size': 30,\n",
    "          'legend.fontsize': 20,\n",
    "          'legend.handlelength': 2\n",
    "         }\n",
    "plt.rcParams.update(params)\n",
    "plt.title('Proportions Of Owned & Leased', fontsize = 17)\n",
    "plt.legend(own_leas_space.index, loc = 'center right', bbox_to_anchor=(1, 0, 0.5, 1))\n",
    "\n",
    "plt.show()"
   ]
  },
  {
   "cell_type": "markdown",
   "metadata": {},
   "source": [
    "#### Top 10 'Bldg State' with 'Parking Spaces'"
   ]
  },
  {
   "cell_type": "code",
   "execution_count": 38,
   "metadata": {},
   "outputs": [
    {
     "data": {
      "text/html": [
       "<div>\n",
       "<style scoped>\n",
       "    .dataframe tbody tr th:only-of-type {\n",
       "        vertical-align: middle;\n",
       "    }\n",
       "\n",
       "    .dataframe tbody tr th {\n",
       "        vertical-align: top;\n",
       "    }\n",
       "\n",
       "    .dataframe thead th {\n",
       "        text-align: right;\n",
       "    }\n",
       "</style>\n",
       "<table border=\"1\" class=\"dataframe\">\n",
       "  <thead>\n",
       "    <tr style=\"text-align: right;\">\n",
       "      <th></th>\n",
       "      <th>Bldg City</th>\n",
       "      <th>Bldg State</th>\n",
       "      <th>Bldg Status</th>\n",
       "      <th>Property Type</th>\n",
       "      <th>Total Parking Spaces</th>\n",
       "      <th>Owned/Leased</th>\n",
       "    </tr>\n",
       "  </thead>\n",
       "  <tbody>\n",
       "    <tr>\n",
       "      <th>0</th>\n",
       "      <td>HARTFORD</td>\n",
       "      <td>CT</td>\n",
       "      <td>ACTIVE</td>\n",
       "      <td>BUILDING</td>\n",
       "      <td>29</td>\n",
       "      <td>OWNED</td>\n",
       "    </tr>\n",
       "    <tr>\n",
       "      <th>1</th>\n",
       "      <td>NEW HAVEN</td>\n",
       "      <td>CT</td>\n",
       "      <td>ACTIVE</td>\n",
       "      <td>BUILDING</td>\n",
       "      <td>0</td>\n",
       "      <td>OWNED</td>\n",
       "    </tr>\n",
       "    <tr>\n",
       "      <th>2</th>\n",
       "      <td>WATERBURY</td>\n",
       "      <td>CT</td>\n",
       "      <td>ACTIVE</td>\n",
       "      <td>BUILDING</td>\n",
       "      <td>2</td>\n",
       "      <td>LEASED</td>\n",
       "    </tr>\n",
       "    <tr>\n",
       "      <th>3</th>\n",
       "      <td>WILLIMANTIC</td>\n",
       "      <td>CT</td>\n",
       "      <td>ACTIVE</td>\n",
       "      <td>BUILDING</td>\n",
       "      <td>0</td>\n",
       "      <td>LEASED</td>\n",
       "    </tr>\n",
       "    <tr>\n",
       "      <th>4</th>\n",
       "      <td>HARTFORD</td>\n",
       "      <td>CT</td>\n",
       "      <td>ACTIVE</td>\n",
       "      <td>BUILDING</td>\n",
       "      <td>103</td>\n",
       "      <td>OWNED</td>\n",
       "    </tr>\n",
       "  </tbody>\n",
       "</table>\n",
       "</div>"
      ],
      "text/plain": [
       "     Bldg City Bldg State Bldg Status Property Type  Total Parking Spaces  \\\n",
       "0     HARTFORD         CT      ACTIVE      BUILDING                    29   \n",
       "1    NEW HAVEN         CT      ACTIVE      BUILDING                     0   \n",
       "2    WATERBURY         CT      ACTIVE      BUILDING                     2   \n",
       "3  WILLIMANTIC         CT      ACTIVE      BUILDING                     0   \n",
       "4     HARTFORD         CT      ACTIVE      BUILDING                   103   \n",
       "\n",
       "  Owned/Leased  \n",
       "0        OWNED  \n",
       "1        OWNED  \n",
       "2       LEASED  \n",
       "3       LEASED  \n",
       "4        OWNED  "
      ]
     },
     "execution_count": 38,
     "metadata": {},
     "output_type": "execute_result"
    }
   ],
   "source": [
    "bldg_active.head()"
   ]
  },
  {
   "cell_type": "code",
   "execution_count": 39,
   "metadata": {},
   "outputs": [
    {
     "data": {
      "text/plain": [
       "Bldg City               50\n",
       "Bldg State              50\n",
       "Bldg Status             50\n",
       "Property Type           50\n",
       "Total Parking Spaces    50\n",
       "Owned/Leased            50\n",
       "dtype: int64"
      ]
     },
     "execution_count": 39,
     "metadata": {},
     "output_type": "execute_result"
    }
   ],
   "source": [
    "bldg_active[bldg_active['Bldg State'] == 'NE'].count()"
   ]
  },
  {
   "cell_type": "code",
   "execution_count": 40,
   "metadata": {},
   "outputs": [
    {
     "data": {
      "text/plain": [
       "Index(['RI', 'DE', 'NH', 'WY', 'NE', 'CT', 'ID', 'SD', 'KS', 'NV'], dtype='object', name='Bldg State')"
      ]
     },
     "execution_count": 40,
     "metadata": {},
     "output_type": "execute_result"
    }
   ],
   "source": [
    "\n",
    "# a = bldg_active['Bldg State'].value_counts()\n",
    "# a[:5]\n",
    "\n",
    "# plt.bar(bldg_active.index, a[:5])\n",
    "# a[:5]\n",
    "\n",
    "top_10_state = bldg_active.groupby('Bldg State').agg({\n",
    "    'Total Parking Spaces' : 'count'\n",
    "}).sort_values('Total Parking Spaces')[:10]\n",
    "\n",
    "top_10_state.index\n"
   ]
  },
  {
   "cell_type": "code",
   "execution_count": 41,
   "metadata": {},
   "outputs": [
    {
     "data": {
      "image/png": "[encoded data removed]",
      "text/plain": [
       "<Figure size 864x504 with 1 Axes>"
      ]
     },
     "metadata": {},
     "output_type": "display_data"
    }
   ],
   "source": [
    "sns.set_context({'figure.figsize' : (12, 7)})\n",
    "# sns.set_style('darkgrid')\n",
    "\n",
    "# plt.plot(kind = 'bar', x = excess_parking.index, y = excess_parking.values )\n",
    "\n",
    "top_10_state.plot(kind = 'bar')\n",
    "plt.title('Bldg State parking situation', fontsize =15)\n",
    "\n",
    "# # rcParams['figure.figsize'] = 11.7,8.27\n",
    "plt.show()"
   ]
  },
  {
   "cell_type": "markdown",
   "metadata": {},
   "source": [
    "### 6. 'States' with more 'Leased'."
   ]
  },
  {
   "cell_type": "code",
   "execution_count": 42,
   "metadata": {},
   "outputs": [
    {
     "data": {
      "text/html": [
       "<div>\n",
       "<style scoped>\n",
       "    .dataframe tbody tr th:only-of-type {\n",
       "        vertical-align: middle;\n",
       "    }\n",
       "\n",
       "    .dataframe tbody tr th {\n",
       "        vertical-align: top;\n",
       "    }\n",
       "\n",
       "    .dataframe thead th {\n",
       "        text-align: right;\n",
       "    }\n",
       "</style>\n",
       "<table border=\"1\" class=\"dataframe\">\n",
       "  <thead>\n",
       "    <tr style=\"text-align: right;\">\n",
       "      <th></th>\n",
       "      <th>Bldg City</th>\n",
       "      <th>Bldg State</th>\n",
       "      <th>Bldg Status</th>\n",
       "      <th>Property Type</th>\n",
       "      <th>Total Parking Spaces</th>\n",
       "      <th>Owned/Leased</th>\n",
       "    </tr>\n",
       "  </thead>\n",
       "  <tbody>\n",
       "    <tr>\n",
       "      <th>0</th>\n",
       "      <td>HARTFORD</td>\n",
       "      <td>CT</td>\n",
       "      <td>ACTIVE</td>\n",
       "      <td>BUILDING</td>\n",
       "      <td>29</td>\n",
       "      <td>OWNED</td>\n",
       "    </tr>\n",
       "    <tr>\n",
       "      <th>1</th>\n",
       "      <td>NEW HAVEN</td>\n",
       "      <td>CT</td>\n",
       "      <td>ACTIVE</td>\n",
       "      <td>BUILDING</td>\n",
       "      <td>0</td>\n",
       "      <td>OWNED</td>\n",
       "    </tr>\n",
       "    <tr>\n",
       "      <th>2</th>\n",
       "      <td>WATERBURY</td>\n",
       "      <td>CT</td>\n",
       "      <td>ACTIVE</td>\n",
       "      <td>BUILDING</td>\n",
       "      <td>2</td>\n",
       "      <td>LEASED</td>\n",
       "    </tr>\n",
       "    <tr>\n",
       "      <th>3</th>\n",
       "      <td>WILLIMANTIC</td>\n",
       "      <td>CT</td>\n",
       "      <td>ACTIVE</td>\n",
       "      <td>BUILDING</td>\n",
       "      <td>0</td>\n",
       "      <td>LEASED</td>\n",
       "    </tr>\n",
       "    <tr>\n",
       "      <th>4</th>\n",
       "      <td>HARTFORD</td>\n",
       "      <td>CT</td>\n",
       "      <td>ACTIVE</td>\n",
       "      <td>BUILDING</td>\n",
       "      <td>103</td>\n",
       "      <td>OWNED</td>\n",
       "    </tr>\n",
       "  </tbody>\n",
       "</table>\n",
       "</div>"
      ],
      "text/plain": [
       "     Bldg City Bldg State Bldg Status Property Type  Total Parking Spaces  \\\n",
       "0     HARTFORD         CT      ACTIVE      BUILDING                    29   \n",
       "1    NEW HAVEN         CT      ACTIVE      BUILDING                     0   \n",
       "2    WATERBURY         CT      ACTIVE      BUILDING                     2   \n",
       "3  WILLIMANTIC         CT      ACTIVE      BUILDING                     0   \n",
       "4     HARTFORD         CT      ACTIVE      BUILDING                   103   \n",
       "\n",
       "  Owned/Leased  \n",
       "0        OWNED  \n",
       "1        OWNED  \n",
       "2       LEASED  \n",
       "3       LEASED  \n",
       "4        OWNED  "
      ]
     },
     "execution_count": 42,
     "metadata": {},
     "output_type": "execute_result"
    }
   ],
   "source": [
    "parking.head()"
   ]
  },
  {
   "cell_type": "code",
   "execution_count": 43,
   "metadata": {},
   "outputs": [
    {
     "data": {
      "text/html": [
       "<div>\n",
       "<style scoped>\n",
       "    .dataframe tbody tr th:only-of-type {\n",
       "        vertical-align: middle;\n",
       "    }\n",
       "\n",
       "    .dataframe tbody tr th {\n",
       "        vertical-align: top;\n",
       "    }\n",
       "\n",
       "    .dataframe thead th {\n",
       "        text-align: right;\n",
       "    }\n",
       "</style>\n",
       "<table border=\"1\" class=\"dataframe\">\n",
       "  <thead>\n",
       "    <tr style=\"text-align: right;\">\n",
       "      <th></th>\n",
       "      <th>Total Parking Spaces</th>\n",
       "    </tr>\n",
       "    <tr>\n",
       "      <th>Bldg State</th>\n",
       "      <th></th>\n",
       "    </tr>\n",
       "  </thead>\n",
       "  <tbody>\n",
       "    <tr>\n",
       "      <th>MO</th>\n",
       "      <td>107.762821</td>\n",
       "    </tr>\n",
       "    <tr>\n",
       "      <th>TX</th>\n",
       "      <td>73.457086</td>\n",
       "    </tr>\n",
       "    <tr>\n",
       "      <th>VA</th>\n",
       "      <td>72.476316</td>\n",
       "    </tr>\n",
       "    <tr>\n",
       "      <th>AL</th>\n",
       "      <td>64.055556</td>\n",
       "    </tr>\n",
       "    <tr>\n",
       "      <th>UT</th>\n",
       "      <td>62.505882</td>\n",
       "    </tr>\n",
       "    <tr>\n",
       "      <th>GA</th>\n",
       "      <td>62.425414</td>\n",
       "    </tr>\n",
       "    <tr>\n",
       "      <th>CO</th>\n",
       "      <td>58.647727</td>\n",
       "    </tr>\n",
       "    <tr>\n",
       "      <th>VT</th>\n",
       "      <td>56.128205</td>\n",
       "    </tr>\n",
       "    <tr>\n",
       "      <th>NM</th>\n",
       "      <td>51.926316</td>\n",
       "    </tr>\n",
       "    <tr>\n",
       "      <th>MD</th>\n",
       "      <td>51.461224</td>\n",
       "    </tr>\n",
       "  </tbody>\n",
       "</table>\n",
       "</div>"
      ],
      "text/plain": [
       "            Total Parking Spaces\n",
       "Bldg State                      \n",
       "MO                    107.762821\n",
       "TX                     73.457086\n",
       "VA                     72.476316\n",
       "AL                     64.055556\n",
       "UT                     62.505882\n",
       "GA                     62.425414\n",
       "CO                     58.647727\n",
       "VT                     56.128205\n",
       "NM                     51.926316\n",
       "MD                     51.461224"
      ]
     },
     "execution_count": 43,
     "metadata": {},
     "output_type": "execute_result"
    }
   ],
   "source": [
    "state_leased_parking = pd.pivot_table(parking[parking['Owned/Leased'] == 'LEASED'], index='Bldg State', values='Total Parking Spaces' )\n",
    "state_leased_parking.sort_values(by='Total Parking Spaces', ascending = False, inplace=True)\n",
    "state_leased_parking.head(10)"
   ]
  },
  {
   "cell_type": "markdown",
   "metadata": {},
   "source": [
    "### 7. Which Property Type has more 'ACTIVE' parking."
   ]
  },
  {
   "cell_type": "code",
   "execution_count": 44,
   "metadata": {},
   "outputs": [
    {
     "data": {
      "text/html": [
       "<div>\n",
       "<style scoped>\n",
       "    .dataframe tbody tr th:only-of-type {\n",
       "        vertical-align: middle;\n",
       "    }\n",
       "\n",
       "    .dataframe tbody tr th {\n",
       "        vertical-align: top;\n",
       "    }\n",
       "\n",
       "    .dataframe thead th {\n",
       "        text-align: right;\n",
       "    }\n",
       "</style>\n",
       "<table border=\"1\" class=\"dataframe\">\n",
       "  <thead>\n",
       "    <tr style=\"text-align: right;\">\n",
       "      <th></th>\n",
       "      <th>Bldg City</th>\n",
       "      <th>Bldg State</th>\n",
       "      <th>Bldg Status</th>\n",
       "      <th>Property Type</th>\n",
       "      <th>Total Parking Spaces</th>\n",
       "      <th>Owned/Leased</th>\n",
       "    </tr>\n",
       "  </thead>\n",
       "  <tbody>\n",
       "    <tr>\n",
       "      <th>0</th>\n",
       "      <td>HARTFORD</td>\n",
       "      <td>CT</td>\n",
       "      <td>ACTIVE</td>\n",
       "      <td>BUILDING</td>\n",
       "      <td>29</td>\n",
       "      <td>OWNED</td>\n",
       "    </tr>\n",
       "    <tr>\n",
       "      <th>1</th>\n",
       "      <td>NEW HAVEN</td>\n",
       "      <td>CT</td>\n",
       "      <td>ACTIVE</td>\n",
       "      <td>BUILDING</td>\n",
       "      <td>0</td>\n",
       "      <td>OWNED</td>\n",
       "    </tr>\n",
       "    <tr>\n",
       "      <th>2</th>\n",
       "      <td>WATERBURY</td>\n",
       "      <td>CT</td>\n",
       "      <td>ACTIVE</td>\n",
       "      <td>BUILDING</td>\n",
       "      <td>2</td>\n",
       "      <td>LEASED</td>\n",
       "    </tr>\n",
       "    <tr>\n",
       "      <th>3</th>\n",
       "      <td>WILLIMANTIC</td>\n",
       "      <td>CT</td>\n",
       "      <td>ACTIVE</td>\n",
       "      <td>BUILDING</td>\n",
       "      <td>0</td>\n",
       "      <td>LEASED</td>\n",
       "    </tr>\n",
       "    <tr>\n",
       "      <th>4</th>\n",
       "      <td>HARTFORD</td>\n",
       "      <td>CT</td>\n",
       "      <td>ACTIVE</td>\n",
       "      <td>BUILDING</td>\n",
       "      <td>103</td>\n",
       "      <td>OWNED</td>\n",
       "    </tr>\n",
       "  </tbody>\n",
       "</table>\n",
       "</div>"
      ],
      "text/plain": [
       "     Bldg City Bldg State Bldg Status Property Type  Total Parking Spaces  \\\n",
       "0     HARTFORD         CT      ACTIVE      BUILDING                    29   \n",
       "1    NEW HAVEN         CT      ACTIVE      BUILDING                     0   \n",
       "2    WATERBURY         CT      ACTIVE      BUILDING                     2   \n",
       "3  WILLIMANTIC         CT      ACTIVE      BUILDING                     0   \n",
       "4     HARTFORD         CT      ACTIVE      BUILDING                   103   \n",
       "\n",
       "  Owned/Leased  \n",
       "0        OWNED  \n",
       "1        OWNED  \n",
       "2       LEASED  \n",
       "3       LEASED  \n",
       "4        OWNED  "
      ]
     },
     "execution_count": 44,
     "metadata": {},
     "output_type": "execute_result"
    }
   ],
   "source": [
    "parking.head()"
   ]
  },
  {
   "cell_type": "code",
   "execution_count": 45,
   "metadata": {},
   "outputs": [
    {
     "data": {
      "text/plain": [
       "BUILDING     8526\n",
       "STRUCTURE     336\n",
       "LAND          119\n",
       "Name: Property Type, dtype: int64"
      ]
     },
     "execution_count": 45,
     "metadata": {},
     "output_type": "execute_result"
    }
   ],
   "source": [
    "prop_type_active = parking[parking['Bldg Status'] == 'ACTIVE']\n",
    "prop_type_active['Property Type'].value_counts()"
   ]
  },
  {
   "cell_type": "code",
   "execution_count": 46,
   "metadata": {},
   "outputs": [
    {
     "data": {
      "text/html": [
       "<div>\n",
       "<style scoped>\n",
       "    .dataframe tbody tr th:only-of-type {\n",
       "        vertical-align: middle;\n",
       "    }\n",
       "\n",
       "    .dataframe tbody tr th {\n",
       "        vertical-align: top;\n",
       "    }\n",
       "\n",
       "    .dataframe thead th {\n",
       "        text-align: right;\n",
       "    }\n",
       "</style>\n",
       "<table border=\"1\" class=\"dataframe\">\n",
       "  <thead>\n",
       "    <tr style=\"text-align: right;\">\n",
       "      <th></th>\n",
       "      <th>Total Parking Spaces</th>\n",
       "    </tr>\n",
       "    <tr>\n",
       "      <th>Property Type</th>\n",
       "      <th></th>\n",
       "    </tr>\n",
       "  </thead>\n",
       "  <tbody>\n",
       "    <tr>\n",
       "      <th>BUILDING</th>\n",
       "      <td>8526</td>\n",
       "    </tr>\n",
       "    <tr>\n",
       "      <th>LAND</th>\n",
       "      <td>119</td>\n",
       "    </tr>\n",
       "    <tr>\n",
       "      <th>STRUCTURE</th>\n",
       "      <td>336</td>\n",
       "    </tr>\n",
       "  </tbody>\n",
       "</table>\n",
       "</div>"
      ],
      "text/plain": [
       "               Total Parking Spaces\n",
       "Property Type                      \n",
       "BUILDING                       8526\n",
       "LAND                            119\n",
       "STRUCTURE                       336"
      ]
     },
     "execution_count": 46,
     "metadata": {},
     "output_type": "execute_result"
    }
   ],
   "source": [
    "more_active_tbl = pd.pivot_table(prop_type_active, index='Property Type', values='Total Parking Spaces', aggfunc='count')\n",
    "more_active_tbl"
   ]
  },
  {
   "cell_type": "code",
   "execution_count": 47,
   "metadata": {},
   "outputs": [
    {
     "data": {
      "text/plain": [
       "array([[8526],\n",
       "       [ 119],\n",
       "       [ 336]], dtype=int64)"
      ]
     },
     "execution_count": 47,
     "metadata": {},
     "output_type": "execute_result"
    }
   ],
   "source": [
    "more_active_tbl.index\n",
    "more_active_tbl.values"
   ]
  },
  {
   "cell_type": "code",
   "execution_count": 48,
   "metadata": {},
   "outputs": [
    {
     "data": {
      "image/png": "[encoded data removed]",
      "text/plain": [
       "<Figure size 648x504 with 1 Axes>"
      ]
     },
     "metadata": {},
     "output_type": "display_data"
    }
   ],
   "source": [
    "sns.set_context({'figure.figsize' : (9, 7)})\n",
    "\n",
    "more_active_tbl.plot(kind = 'bar', color = '#6D5A00')\n",
    "plt.title('Bldg State parking situation', fontsize =15)\n",
    "plt.show()"
   ]
  },
  {
   "cell_type": "code",
   "execution_count": null,
   "metadata": {},
   "outputs": [],
   "source": []
  },
  {
   "cell_type": "code",
   "execution_count": null,
   "metadata": {},
   "outputs": [],
   "source": []
  },
  {
   "cell_type": "code",
   "execution_count": null,
   "metadata": {},
   "outputs": [],
   "source": []
  },
  {
   "cell_type": "code",
   "execution_count": null,
   "metadata": {},
   "outputs": [],
   "source": []
  },
  {
   "cell_type": "code",
   "execution_count": null,
   "metadata": {},
   "outputs": [],
   "source": []
  },
  {
   "cell_type": "code",
   "execution_count": null,
   "metadata": {},
   "outputs": [],
   "source": []
  },
  {
   "cell_type": "code",
   "execution_count": null,
   "metadata": {},
   "outputs": [],
   "source": []
  },
  {
   "cell_type": "code",
   "execution_count": null,
   "metadata": {},
   "outputs": [],
   "source": []
  },
  {
   "cell_type": "code",
   "execution_count": null,
   "metadata": {},
   "outputs": [],
   "source": []
  },
  {
   "cell_type": "code",
   "execution_count": null,
   "metadata": {},
   "outputs": [],
   "source": []
  },
  {
   "cell_type": "code",
   "execution_count": null,
   "metadata": {},
   "outputs": [],
   "source": []
  },
  {
   "cell_type": "code",
   "execution_count": null,
   "metadata": {},
   "outputs": [],
   "source": []
  },
  {
   "cell_type": "code",
   "execution_count": null,
   "metadata": {},
   "outputs": [],
   "source": []
  },
  {
   "cell_type": "code",
   "execution_count": null,
   "metadata": {},
   "outputs": [],
   "source": []
  },
  {
   "cell_type": "code",
   "execution_count": null,
   "metadata": {},
   "outputs": [],
   "source": []
  },
  {
   "cell_type": "code",
   "execution_count": null,
   "metadata": {},
   "outputs": [],
   "source": []
  },
  {
   "cell_type": "code",
   "execution_count": null,
   "metadata": {},
   "outputs": [],
   "source": []
  },
  {
   "cell_type": "code",
   "execution_count": null,
   "metadata": {},
   "outputs": [],
   "source": []
  },
  {
   "cell_type": "code",
   "execution_count": null,
   "metadata": {},
   "outputs": [],
   "source": []
  },
  {
   "cell_type": "code",
   "execution_count": null,
   "metadata": {},
   "outputs": [],
   "source": []
  },
  {
   "cell_type": "code",
   "execution_count": null,
   "metadata": {},
   "outputs": [],
   "source": []
  },
  {
   "cell_type": "code",
   "execution_count": null,
   "metadata": {},
   "outputs": [],
   "source": []
  },
  {
   "cell_type": "code",
   "execution_count": null,
   "metadata": {},
   "outputs": [],
   "source": []
  },
  {
   "cell_type": "code",
   "execution_count": null,
   "metadata": {},
   "outputs": [],
   "source": []
  },
  {
   "cell_type": "code",
   "execution_count": null,
   "metadata": {},
   "outputs": [],
   "source": []
  },
  {
   "cell_type": "code",
   "execution_count": null,
   "metadata": {},
   "outputs": [],
   "source": []
  },
  {
   "cell_type": "code",
   "execution_count": null,
   "metadata": {},
   "outputs": [],
   "source": []
  },
  {
   "cell_type": "code",
   "execution_count": null,
   "metadata": {},
   "outputs": [],
   "source": []
  },
  {
   "cell_type": "code",
   "execution_count": null,
   "metadata": {},
   "outputs": [],
   "source": []
  },
  {
   "cell_type": "code",
   "execution_count": null,
   "metadata": {},
   "outputs": [],
   "source": []
  },
  {
   "cell_type": "code",
   "execution_count": null,
   "metadata": {},
   "outputs": [],
   "source": []
  }
 ],
 "metadata": {
  "kernelspec": {
   "display_name": "Python 3",
   "language": "python",
   "name": "python3"
  },
  "language_info": {
   "codemirror_mode": {
    "name": "ipython",
    "version": 3
   },
   "file_extension": ".py",
   "mimetype": "text/x-python",
   "name": "python",
   "nbconvert_exporter": "python",
   "pygments_lexer": "ipython3",
   "version": "3.7.0"
  }
 },
 "nbformat": 4,
 "nbformat_minor": 2
}
